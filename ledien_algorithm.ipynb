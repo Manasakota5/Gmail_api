{
 "cells": [
  {
   "cell_type": "code",
   "execution_count": 3,
   "metadata": {},
   "outputs": [],
   "source": [
    "import csv\n",
    "import pandas as pd\n",
    "import numpy as np\n",
    "from sklearn.metrics.pairwise import cosine_similarity\n",
    "from pyvis.network import Network\n",
    "%matplotlib inline\n",
    "\n",
    "import json\n",
    "\n",
    "import itertools\n",
    "import networkx as nx\n",
    "import matplotlib.pyplot as plt\n",
    "import community as community_louvain\n",
    "from community import (\n",
    "    partition_at_level,\n",
    "    modularity,\n",
    "    best_partition,\n",
    "    generate_dendrogram,\n",
    "    induced_graph,\n",
    "    load_binary,\n",
    ")\n",
    "pd.set_option('display.max_rows', None)"
   ]
  },
  {
   "cell_type": "code",
   "execution_count": 4,
   "metadata": {},
   "outputs": [
    {
     "data": {
      "text/html": [
       "<div>\n",
       "<style scoped>\n",
       "    .dataframe tbody tr th:only-of-type {\n",
       "        vertical-align: middle;\n",
       "    }\n",
       "\n",
       "    .dataframe tbody tr th {\n",
       "        vertical-align: top;\n",
       "    }\n",
       "\n",
       "    .dataframe thead th {\n",
       "        text-align: right;\n",
       "    }\n",
       "</style>\n",
       "<table border=\"1\" class=\"dataframe\">\n",
       "  <thead>\n",
       "    <tr style=\"text-align: right;\">\n",
       "      <th></th>\n",
       "      <th>Source_elt</th>\n",
       "      <th>Target_elt</th>\n",
       "      <th>WeightCount</th>\n",
       "    </tr>\n",
       "  </thead>\n",
       "  <tbody>\n",
       "    <tr>\n",
       "      <th>0</th>\n",
       "      <td>7.0</td>\n",
       "      <td>7.0</td>\n",
       "      <td>0</td>\n",
       "    </tr>\n",
       "    <tr>\n",
       "      <th>1</th>\n",
       "      <td>7.0</td>\n",
       "      <td>14.0</td>\n",
       "      <td>0</td>\n",
       "    </tr>\n",
       "    <tr>\n",
       "      <th>2</th>\n",
       "      <td>7.0</td>\n",
       "      <td>21.0</td>\n",
       "      <td>0</td>\n",
       "    </tr>\n",
       "    <tr>\n",
       "      <th>3</th>\n",
       "      <td>7.0</td>\n",
       "      <td>22.0</td>\n",
       "      <td>0</td>\n",
       "    </tr>\n",
       "    <tr>\n",
       "      <th>4</th>\n",
       "      <td>7.0</td>\n",
       "      <td>34.0</td>\n",
       "      <td>0</td>\n",
       "    </tr>\n",
       "  </tbody>\n",
       "</table>\n",
       "</div>"
      ],
      "text/plain": [
       "   Source_elt  Target_elt  WeightCount\n",
       "0         7.0         7.0            0\n",
       "1         7.0        14.0            0\n",
       "2         7.0        21.0            0\n",
       "3         7.0        22.0            0\n",
       "4         7.0        34.0            0"
      ]
     },
     "execution_count": 4,
     "metadata": {},
     "output_type": "execute_result"
    }
   ],
   "source": [
    "path = r\"C:/Users/manas/Documents/Master Thesis/code/Manasa2022/skill_id/co-occurence/\"\n",
    "filename = 'co-occurence_python_proper_order.csv'\n",
    "\n",
    "#word count for co-occurrence as f edge attribute\n",
    "df_occMatrix = pd.read_csv(path + filename)\n",
    "#df_occMatrix.rename(columns = {'Source_elt':'Source', 'Target_elt':'Target'}, inplace = True)\n",
    "df_occMatrix.head()"
   ]
  },
  {
   "cell_type": "code",
   "execution_count": 5,
   "metadata": {},
   "outputs": [
    {
     "data": {
      "text/html": [
       "<div>\n",
       "<style scoped>\n",
       "    .dataframe tbody tr th:only-of-type {\n",
       "        vertical-align: middle;\n",
       "    }\n",
       "\n",
       "    .dataframe tbody tr th {\n",
       "        vertical-align: top;\n",
       "    }\n",
       "\n",
       "    .dataframe thead th {\n",
       "        text-align: right;\n",
       "    }\n",
       "</style>\n",
       "<table border=\"1\" class=\"dataframe\">\n",
       "  <thead>\n",
       "    <tr style=\"text-align: right;\">\n",
       "      <th></th>\n",
       "      <th>Source</th>\n",
       "      <th>Target</th>\n",
       "      <th>weight_cosine</th>\n",
       "    </tr>\n",
       "  </thead>\n",
       "  <tbody>\n",
       "    <tr>\n",
       "      <th>0</th>\n",
       "      <td>7.0</td>\n",
       "      <td>7.0</td>\n",
       "      <td>1.000000</td>\n",
       "    </tr>\n",
       "    <tr>\n",
       "      <th>1</th>\n",
       "      <td>7.0</td>\n",
       "      <td>14.0</td>\n",
       "      <td>-0.021929</td>\n",
       "    </tr>\n",
       "    <tr>\n",
       "      <th>2</th>\n",
       "      <td>7.0</td>\n",
       "      <td>21.0</td>\n",
       "      <td>0.003985</td>\n",
       "    </tr>\n",
       "    <tr>\n",
       "      <th>3</th>\n",
       "      <td>7.0</td>\n",
       "      <td>22.0</td>\n",
       "      <td>-0.055018</td>\n",
       "    </tr>\n",
       "    <tr>\n",
       "      <th>4</th>\n",
       "      <td>7.0</td>\n",
       "      <td>34.0</td>\n",
       "      <td>0.055545</td>\n",
       "    </tr>\n",
       "  </tbody>\n",
       "</table>\n",
       "</div>"
      ],
      "text/plain": [
       "   Source  Target  weight_cosine\n",
       "0     7.0     7.0       1.000000\n",
       "1     7.0    14.0      -0.021929\n",
       "2     7.0    21.0       0.003985\n",
       "3     7.0    22.0      -0.055018\n",
       "4     7.0    34.0       0.055545"
      ]
     },
     "execution_count": 5,
     "metadata": {},
     "output_type": "execute_result"
    }
   ],
   "source": [
    "path_word = r'C:/Users/manas/Documents/Master Thesis/code/Manasa2022/skill_id/word2vec/'\n",
    "filename_word  = 'weight_cosine.csv'\n",
    "\n",
    "#cosine similarity as c edge attribute\n",
    "word_vectors = pd.read_csv(path_word + filename_word)\n",
    "word_vectors.head()"
   ]
  },
  {
   "cell_type": "code",
   "execution_count": 6,
   "metadata": {},
   "outputs": [
    {
     "data": {
      "text/html": [
       "<div>\n",
       "<style scoped>\n",
       "    .dataframe tbody tr th:only-of-type {\n",
       "        vertical-align: middle;\n",
       "    }\n",
       "\n",
       "    .dataframe tbody tr th {\n",
       "        vertical-align: top;\n",
       "    }\n",
       "\n",
       "    .dataframe thead th {\n",
       "        text-align: right;\n",
       "    }\n",
       "</style>\n",
       "<table border=\"1\" class=\"dataframe\">\n",
       "  <thead>\n",
       "    <tr style=\"text-align: right;\">\n",
       "      <th></th>\n",
       "      <th>Source</th>\n",
       "      <th>Target</th>\n",
       "      <th>weight_cosine</th>\n",
       "      <th>WeightCount</th>\n",
       "    </tr>\n",
       "  </thead>\n",
       "  <tbody>\n",
       "    <tr>\n",
       "      <th>0</th>\n",
       "      <td>7.0</td>\n",
       "      <td>7.0</td>\n",
       "      <td>1.000000</td>\n",
       "      <td>0</td>\n",
       "    </tr>\n",
       "    <tr>\n",
       "      <th>1</th>\n",
       "      <td>7.0</td>\n",
       "      <td>14.0</td>\n",
       "      <td>-0.021929</td>\n",
       "      <td>0</td>\n",
       "    </tr>\n",
       "    <tr>\n",
       "      <th>2</th>\n",
       "      <td>7.0</td>\n",
       "      <td>21.0</td>\n",
       "      <td>0.003985</td>\n",
       "      <td>0</td>\n",
       "    </tr>\n",
       "    <tr>\n",
       "      <th>3</th>\n",
       "      <td>7.0</td>\n",
       "      <td>22.0</td>\n",
       "      <td>-0.055018</td>\n",
       "      <td>0</td>\n",
       "    </tr>\n",
       "    <tr>\n",
       "      <th>4</th>\n",
       "      <td>7.0</td>\n",
       "      <td>34.0</td>\n",
       "      <td>0.055545</td>\n",
       "      <td>0</td>\n",
       "    </tr>\n",
       "  </tbody>\n",
       "</table>\n",
       "</div>"
      ],
      "text/plain": [
       "   Source  Target  weight_cosine  WeightCount\n",
       "0     7.0     7.0       1.000000            0\n",
       "1     7.0    14.0      -0.021929            0\n",
       "2     7.0    21.0       0.003985            0\n",
       "3     7.0    22.0      -0.055018            0\n",
       "4     7.0    34.0       0.055545            0"
      ]
     },
     "execution_count": 6,
     "metadata": {},
     "output_type": "execute_result"
    }
   ],
   "source": [
    "#Merge tables\n",
    "df_new = pd.concat([word_vectors, df_occMatrix],axis=1, sort=True)\n",
    "df_new = df_new.drop(['Source_elt', 'Target_elt'], axis=1)\n",
    "df_new.head()"
   ]
  },
  {
   "cell_type": "code",
   "execution_count": 7,
   "metadata": {},
   "outputs": [
    {
     "data": {
      "text/html": [
       "<div>\n",
       "<style scoped>\n",
       "    .dataframe tbody tr th:only-of-type {\n",
       "        vertical-align: middle;\n",
       "    }\n",
       "\n",
       "    .dataframe tbody tr th {\n",
       "        vertical-align: top;\n",
       "    }\n",
       "\n",
       "    .dataframe thead th {\n",
       "        text-align: right;\n",
       "    }\n",
       "</style>\n",
       "<table border=\"1\" class=\"dataframe\">\n",
       "  <thead>\n",
       "    <tr style=\"text-align: right;\">\n",
       "      <th></th>\n",
       "      <th>Source</th>\n",
       "      <th>Target</th>\n",
       "      <th>weight_cosine</th>\n",
       "      <th>WeightCount</th>\n",
       "    </tr>\n",
       "  </thead>\n",
       "  <tbody>\n",
       "    <tr>\n",
       "      <th>644849</th>\n",
       "      <td>977782.0</td>\n",
       "      <td>958531.0</td>\n",
       "      <td>0.008294</td>\n",
       "      <td>43850</td>\n",
       "    </tr>\n",
       "    <tr>\n",
       "      <th>298835</th>\n",
       "      <td>958531.0</td>\n",
       "      <td>977782.0</td>\n",
       "      <td>0.008294</td>\n",
       "      <td>43850</td>\n",
       "    </tr>\n",
       "    <tr>\n",
       "      <th>465075</th>\n",
       "      <td>972787.0</td>\n",
       "      <td>972468.0</td>\n",
       "      <td>0.136831</td>\n",
       "      <td>39423</td>\n",
       "    </tr>\n",
       "    <tr>\n",
       "      <th>373608</th>\n",
       "      <td>972468.0</td>\n",
       "      <td>972787.0</td>\n",
       "      <td>0.136831</td>\n",
       "      <td>39423</td>\n",
       "    </tr>\n",
       "    <tr>\n",
       "      <th>297679</th>\n",
       "      <td>958531.0</td>\n",
       "      <td>954527.0</td>\n",
       "      <td>0.006997</td>\n",
       "      <td>31622</td>\n",
       "    </tr>\n",
       "  </tbody>\n",
       "</table>\n",
       "</div>"
      ],
      "text/plain": [
       "          Source    Target  weight_cosine  WeightCount\n",
       "644849  977782.0  958531.0       0.008294        43850\n",
       "298835  958531.0  977782.0       0.008294        43850\n",
       "465075  972787.0  972468.0       0.136831        39423\n",
       "373608  972468.0  972787.0       0.136831        39423\n",
       "297679  958531.0  954527.0       0.006997        31622"
      ]
     },
     "execution_count": 7,
     "metadata": {},
     "output_type": "execute_result"
    }
   ],
   "source": [
    "#drop rows with count of co-occurrences zero and rows with cosine similarity zero and lower\n",
    "df_new = df_new[(df_new['WeightCount'] > 0) & (df_new['weight_cosine'] > 0)]\n",
    "df_new.reset_index(inplace=True)\n",
    "df_new = df_new.drop(['index'], axis=1)\n",
    "df_new.sort_values(by=['WeightCount'], inplace=True, ascending=False)\n",
    "#print(len(df_new))\n",
    "df_new.head()"
   ]
  },
  {
   "cell_type": "code",
   "execution_count": 8,
   "metadata": {},
   "outputs": [
    {
     "data": {
      "text/html": [
       "<div>\n",
       "<style scoped>\n",
       "    .dataframe tbody tr th:only-of-type {\n",
       "        vertical-align: middle;\n",
       "    }\n",
       "\n",
       "    .dataframe tbody tr th {\n",
       "        vertical-align: top;\n",
       "    }\n",
       "\n",
       "    .dataframe thead th {\n",
       "        text-align: right;\n",
       "    }\n",
       "</style>\n",
       "<table border=\"1\" class=\"dataframe\">\n",
       "  <thead>\n",
       "    <tr style=\"text-align: right;\">\n",
       "      <th></th>\n",
       "      <th>Source</th>\n",
       "      <th>Target</th>\n",
       "      <th>weight_cosine</th>\n",
       "      <th>WeightCount</th>\n",
       "    </tr>\n",
       "  </thead>\n",
       "  <tbody>\n",
       "    <tr>\n",
       "      <th>644849</th>\n",
       "      <td>977782.0</td>\n",
       "      <td>958531.0</td>\n",
       "      <td>0.008294</td>\n",
       "      <td>43850</td>\n",
       "    </tr>\n",
       "    <tr>\n",
       "      <th>298835</th>\n",
       "      <td>958531.0</td>\n",
       "      <td>977782.0</td>\n",
       "      <td>0.008294</td>\n",
       "      <td>43850</td>\n",
       "    </tr>\n",
       "    <tr>\n",
       "      <th>465075</th>\n",
       "      <td>972787.0</td>\n",
       "      <td>972468.0</td>\n",
       "      <td>0.136831</td>\n",
       "      <td>39423</td>\n",
       "    </tr>\n",
       "    <tr>\n",
       "      <th>373608</th>\n",
       "      <td>972468.0</td>\n",
       "      <td>972787.0</td>\n",
       "      <td>0.136831</td>\n",
       "      <td>39423</td>\n",
       "    </tr>\n",
       "    <tr>\n",
       "      <th>297679</th>\n",
       "      <td>958531.0</td>\n",
       "      <td>954527.0</td>\n",
       "      <td>0.006997</td>\n",
       "      <td>31622</td>\n",
       "    </tr>\n",
       "  </tbody>\n",
       "</table>\n",
       "</div>"
      ],
      "text/plain": [
       "          Source    Target  weight_cosine  WeightCount\n",
       "644849  977782.0  958531.0       0.008294        43850\n",
       "298835  958531.0  977782.0       0.008294        43850\n",
       "465075  972787.0  972468.0       0.136831        39423\n",
       "373608  972468.0  972787.0       0.136831        39423\n",
       "297679  958531.0  954527.0       0.006997        31622"
      ]
     },
     "execution_count": 8,
     "metadata": {},
     "output_type": "execute_result"
    }
   ],
   "source": [
    "df_new.head(5)"
   ]
  },
  {
   "cell_type": "code",
   "execution_count": 9,
   "metadata": {},
   "outputs": [],
   "source": [
    "def select_columns(data_frame, column_names):\n",
    "    new_frame = data_frame.loc[:, column_names]\n",
    "    new_frame.reset_index(inplace=True)\n",
    "    new_frame = new_frame.drop(['index'], axis=1)\n",
    "    return new_frame\n",
    "\n",
    "selected_columns = ['Source', 'Target']"
   ]
  },
  {
   "cell_type": "code",
   "execution_count": 10,
   "metadata": {},
   "outputs": [],
   "source": [
    "def reset_rename(data_frame):\n",
    "    data_frame.reset_index(inplace=True)\n",
    "    new_frame = data_frame.rename(columns={'index': 'Source'})\n",
    "    return new_frame"
   ]
  },
  {
   "cell_type": "code",
   "execution_count": 11,
   "metadata": {},
   "outputs": [],
   "source": [
    "def resetIndex(data_frame):\n",
    "    data_frame.reset_index(inplace=True)\n",
    "    new_frame = data_frame.drop(['index'], axis=1)\n",
    "    return new_frame"
   ]
  },
  {
   "cell_type": "code",
   "execution_count": 12,
   "metadata": {},
   "outputs": [],
   "source": [
    "def connectcluster(data):\n",
    "    sourcelist = data['Source'].tolist()\n",
    "    targetlist = data['Target'].tolist()\n",
    "    for val in targetlist:\n",
    "        if val not in sourcelist:\n",
    "            data = data[data.Target != val]\n",
    "    return data"
   ]
  },
  {
   "cell_type": "code",
   "execution_count": 13,
   "metadata": {},
   "outputs": [
    {
     "data": {
      "text/html": [
       "<div>\n",
       "<style scoped>\n",
       "    .dataframe tbody tr th:only-of-type {\n",
       "        vertical-align: middle;\n",
       "    }\n",
       "\n",
       "    .dataframe tbody tr th {\n",
       "        vertical-align: top;\n",
       "    }\n",
       "\n",
       "    .dataframe thead th {\n",
       "        text-align: right;\n",
       "    }\n",
       "</style>\n",
       "<table border=\"1\" class=\"dataframe\">\n",
       "  <thead>\n",
       "    <tr style=\"text-align: right;\">\n",
       "      <th></th>\n",
       "      <th>Source</th>\n",
       "      <th>Target</th>\n",
       "    </tr>\n",
       "  </thead>\n",
       "  <tbody>\n",
       "    <tr>\n",
       "      <th>0</th>\n",
       "      <td>977782.0</td>\n",
       "      <td>958531.0</td>\n",
       "    </tr>\n",
       "    <tr>\n",
       "      <th>1</th>\n",
       "      <td>958531.0</td>\n",
       "      <td>977782.0</td>\n",
       "    </tr>\n",
       "    <tr>\n",
       "      <th>2</th>\n",
       "      <td>972787.0</td>\n",
       "      <td>972468.0</td>\n",
       "    </tr>\n",
       "    <tr>\n",
       "      <th>3</th>\n",
       "      <td>972468.0</td>\n",
       "      <td>972787.0</td>\n",
       "    </tr>\n",
       "    <tr>\n",
       "      <th>4</th>\n",
       "      <td>958531.0</td>\n",
       "      <td>954527.0</td>\n",
       "    </tr>\n",
       "  </tbody>\n",
       "</table>\n",
       "</div>"
      ],
      "text/plain": [
       "     Source    Target\n",
       "0  977782.0  958531.0\n",
       "1  958531.0  977782.0\n",
       "2  972787.0  972468.0\n",
       "3  972468.0  972787.0\n",
       "4  958531.0  954527.0"
      ]
     },
     "execution_count": 13,
     "metadata": {},
     "output_type": "execute_result"
    }
   ],
   "source": [
    "nodes_layer_1 = select_columns(df_new, selected_columns)\n",
    "nodes_layer_1.head()"
   ]
  },
  {
   "cell_type": "code",
   "execution_count": 14,
   "metadata": {},
   "outputs": [
    {
     "data": {
      "text/plain": [
       "891306"
      ]
     },
     "execution_count": 14,
     "metadata": {},
     "output_type": "execute_result"
    }
   ],
   "source": [
    "len(nodes_layer_1)"
   ]
  },
  {
   "cell_type": "code",
   "execution_count": 85,
   "metadata": {},
   "outputs": [],
   "source": [
    "sample_nodes_layer_1 =nodes_layer_1.head(1000)"
   ]
  },
  {
   "cell_type": "code",
   "execution_count": null,
   "metadata": {},
   "outputs": [],
   "source": [
    "best_partition = None\n",
    "best_mod = 0\n",
    "for x in range(100):\n",
    "    WeightCount = []\n",
    "    weight_cosine =[]\n",
    "    for i in range(len(sample_nodes_layer_1)):\n",
    "        weight_cosine.append(pd.DataFrame(df_new['weight_cosine']).sample(500, replace=True).weight_cosine.mean())\n",
    "        WeightCount.append(pd.DataFrame(df_new['WeightCount']).sample(500, replace=True).WeightCount.mean())\n",
    "        boot = pd.DataFrame({'weight_cosine':weight_cosine, 'WeightCount' :WeightCount})\n",
    "    bootstrapgraph = pd.concat([sample_nodes_layer_1, boot],axis=1, sort=True)"
   ]
  },
  {
   "cell_type": "code",
   "execution_count": 116,
   "metadata": {},
   "outputs": [
    {
     "data": {
      "text/html": [
       "<div>\n",
       "<style scoped>\n",
       "    .dataframe tbody tr th:only-of-type {\n",
       "        vertical-align: middle;\n",
       "    }\n",
       "\n",
       "    .dataframe tbody tr th {\n",
       "        vertical-align: top;\n",
       "    }\n",
       "\n",
       "    .dataframe thead th {\n",
       "        text-align: right;\n",
       "    }\n",
       "</style>\n",
       "<table border=\"1\" class=\"dataframe\">\n",
       "  <thead>\n",
       "    <tr style=\"text-align: right;\">\n",
       "      <th></th>\n",
       "      <th>Source</th>\n",
       "      <th>Target</th>\n",
       "      <th>weight_cosine</th>\n",
       "      <th>WeightCount</th>\n",
       "    </tr>\n",
       "  </thead>\n",
       "  <tbody>\n",
       "    <tr>\n",
       "      <th>0</th>\n",
       "      <td>977782.0</td>\n",
       "      <td>958531.0</td>\n",
       "      <td>0.073028</td>\n",
       "      <td>13.51</td>\n",
       "    </tr>\n",
       "    <tr>\n",
       "      <th>1</th>\n",
       "      <td>958531.0</td>\n",
       "      <td>977782.0</td>\n",
       "      <td>0.081068</td>\n",
       "      <td>27.20</td>\n",
       "    </tr>\n",
       "    <tr>\n",
       "      <th>2</th>\n",
       "      <td>972787.0</td>\n",
       "      <td>972468.0</td>\n",
       "      <td>0.096737</td>\n",
       "      <td>121.83</td>\n",
       "    </tr>\n",
       "    <tr>\n",
       "      <th>3</th>\n",
       "      <td>972468.0</td>\n",
       "      <td>972787.0</td>\n",
       "      <td>0.081895</td>\n",
       "      <td>33.11</td>\n",
       "    </tr>\n",
       "    <tr>\n",
       "      <th>4</th>\n",
       "      <td>958531.0</td>\n",
       "      <td>954527.0</td>\n",
       "      <td>0.089092</td>\n",
       "      <td>19.41</td>\n",
       "    </tr>\n",
       "    <tr>\n",
       "      <th>5</th>\n",
       "      <td>954527.0</td>\n",
       "      <td>958531.0</td>\n",
       "      <td>0.075066</td>\n",
       "      <td>10.42</td>\n",
       "    </tr>\n",
       "    <tr>\n",
       "      <th>6</th>\n",
       "      <td>956733.0</td>\n",
       "      <td>958531.0</td>\n",
       "      <td>0.077075</td>\n",
       "      <td>26.54</td>\n",
       "    </tr>\n",
       "    <tr>\n",
       "      <th>7</th>\n",
       "      <td>958531.0</td>\n",
       "      <td>956733.0</td>\n",
       "      <td>0.075652</td>\n",
       "      <td>66.40</td>\n",
       "    </tr>\n",
       "    <tr>\n",
       "      <th>8</th>\n",
       "      <td>954527.0</td>\n",
       "      <td>972533.0</td>\n",
       "      <td>0.082469</td>\n",
       "      <td>46.36</td>\n",
       "    </tr>\n",
       "    <tr>\n",
       "      <th>9</th>\n",
       "      <td>972533.0</td>\n",
       "      <td>954527.0</td>\n",
       "      <td>0.076533</td>\n",
       "      <td>42.75</td>\n",
       "    </tr>\n",
       "  </tbody>\n",
       "</table>\n",
       "</div>"
      ],
      "text/plain": [
       "     Source    Target  weight_cosine  WeightCount\n",
       "0  977782.0  958531.0       0.073028        13.51\n",
       "1  958531.0  977782.0       0.081068        27.20\n",
       "2  972787.0  972468.0       0.096737       121.83\n",
       "3  972468.0  972787.0       0.081895        33.11\n",
       "4  958531.0  954527.0       0.089092        19.41\n",
       "5  954527.0  958531.0       0.075066        10.42\n",
       "6  956733.0  958531.0       0.077075        26.54\n",
       "7  958531.0  956733.0       0.075652        66.40\n",
       "8  954527.0  972533.0       0.082469        46.36\n",
       "9  972533.0  954527.0       0.076533        42.75"
      ]
     },
     "execution_count": 116,
     "metadata": {},
     "output_type": "execute_result"
    }
   ],
   "source": [
    "bootstrapgraph.head(10)"
   ]
  },
  {
   "cell_type": "code",
   "execution_count": 117,
   "metadata": {},
   "outputs": [],
   "source": [
    "out = pd.Series(map(frozenset,zip(bootstrapgraph['Source'],bootstrapgraph['Target'])))"
   ]
  },
  {
   "cell_type": "code",
   "execution_count": 118,
   "metadata": {},
   "outputs": [
    {
     "data": {
      "text/html": [
       "<div>\n",
       "<style scoped>\n",
       "    .dataframe tbody tr th:only-of-type {\n",
       "        vertical-align: middle;\n",
       "    }\n",
       "\n",
       "    .dataframe tbody tr th {\n",
       "        vertical-align: top;\n",
       "    }\n",
       "\n",
       "    .dataframe thead th {\n",
       "        text-align: right;\n",
       "    }\n",
       "</style>\n",
       "<table border=\"1\" class=\"dataframe\">\n",
       "  <thead>\n",
       "    <tr style=\"text-align: right;\">\n",
       "      <th></th>\n",
       "      <th>Source</th>\n",
       "      <th>Target</th>\n",
       "      <th>weight_cosine</th>\n",
       "      <th>WeightCount</th>\n",
       "      <th>duplicates</th>\n",
       "    </tr>\n",
       "  </thead>\n",
       "  <tbody>\n",
       "    <tr>\n",
       "      <th>0</th>\n",
       "      <td>977782.0</td>\n",
       "      <td>958531.0</td>\n",
       "      <td>0.073028</td>\n",
       "      <td>13.51</td>\n",
       "      <td>(958531.0, 977782.0)</td>\n",
       "    </tr>\n",
       "    <tr>\n",
       "      <th>1</th>\n",
       "      <td>958531.0</td>\n",
       "      <td>977782.0</td>\n",
       "      <td>0.081068</td>\n",
       "      <td>27.20</td>\n",
       "      <td>(958531.0, 977782.0)</td>\n",
       "    </tr>\n",
       "    <tr>\n",
       "      <th>2</th>\n",
       "      <td>972787.0</td>\n",
       "      <td>972468.0</td>\n",
       "      <td>0.096737</td>\n",
       "      <td>121.83</td>\n",
       "      <td>(972787.0, 972468.0)</td>\n",
       "    </tr>\n",
       "    <tr>\n",
       "      <th>3</th>\n",
       "      <td>972468.0</td>\n",
       "      <td>972787.0</td>\n",
       "      <td>0.081895</td>\n",
       "      <td>33.11</td>\n",
       "      <td>(972787.0, 972468.0)</td>\n",
       "    </tr>\n",
       "    <tr>\n",
       "      <th>4</th>\n",
       "      <td>958531.0</td>\n",
       "      <td>954527.0</td>\n",
       "      <td>0.089092</td>\n",
       "      <td>19.41</td>\n",
       "      <td>(958531.0, 954527.0)</td>\n",
       "    </tr>\n",
       "  </tbody>\n",
       "</table>\n",
       "</div>"
      ],
      "text/plain": [
       "     Source    Target  weight_cosine  WeightCount            duplicates\n",
       "0  977782.0  958531.0       0.073028        13.51  (958531.0, 977782.0)\n",
       "1  958531.0  977782.0       0.081068        27.20  (958531.0, 977782.0)\n",
       "2  972787.0  972468.0       0.096737       121.83  (972787.0, 972468.0)\n",
       "3  972468.0  972787.0       0.081895        33.11  (972787.0, 972468.0)\n",
       "4  958531.0  954527.0       0.089092        19.41  (958531.0, 954527.0)"
      ]
     },
     "execution_count": 118,
     "metadata": {},
     "output_type": "execute_result"
    }
   ],
   "source": [
    "bootstrapgraph['duplicates']=out\n",
    "bootstrapgraph.head(5)"
   ]
  },
  {
   "cell_type": "code",
   "execution_count": null,
   "metadata": {},
   "outputs": [],
   "source": [
    "#example\n",
    "df.groupby('A').agg({'B': ['min', 'max'], 'C': 'sum'})"
   ]
  },
  {
   "cell_type": "code",
   "execution_count": 120,
   "metadata": {},
   "outputs": [
    {
     "name": "stdout",
     "output_type": "stream",
     "text": [
      "(500, 5)\n"
     ]
    },
    {
     "data": {
      "text/html": [
       "<div>\n",
       "<style scoped>\n",
       "    .dataframe tbody tr th:only-of-type {\n",
       "        vertical-align: middle;\n",
       "    }\n",
       "\n",
       "    .dataframe tbody tr th {\n",
       "        vertical-align: top;\n",
       "    }\n",
       "\n",
       "    .dataframe thead th {\n",
       "        text-align: right;\n",
       "    }\n",
       "</style>\n",
       "<table border=\"1\" class=\"dataframe\">\n",
       "  <thead>\n",
       "    <tr style=\"text-align: right;\">\n",
       "      <th></th>\n",
       "      <th>Source</th>\n",
       "      <th>Target</th>\n",
       "      <th>WeightCount</th>\n",
       "      <th>weight_cosine</th>\n",
       "      <th>sum_weight</th>\n",
       "    </tr>\n",
       "  </thead>\n",
       "  <tbody>\n",
       "    <tr>\n",
       "      <th>0</th>\n",
       "      <td>977782.0</td>\n",
       "      <td>958531.0</td>\n",
       "      <td>40.71</td>\n",
       "      <td>0.154096</td>\n",
       "      <td>40.864096</td>\n",
       "    </tr>\n",
       "    <tr>\n",
       "      <th>1</th>\n",
       "      <td>957474.0</td>\n",
       "      <td>972565.0</td>\n",
       "      <td>32.86</td>\n",
       "      <td>0.158097</td>\n",
       "      <td>33.018097</td>\n",
       "    </tr>\n",
       "    <tr>\n",
       "      <th>2</th>\n",
       "      <td>972587.0</td>\n",
       "      <td>956605.0</td>\n",
       "      <td>64.82</td>\n",
       "      <td>0.166651</td>\n",
       "      <td>64.986651</td>\n",
       "    </tr>\n",
       "    <tr>\n",
       "      <th>3</th>\n",
       "      <td>972548.0</td>\n",
       "      <td>957464.0</td>\n",
       "      <td>113.61</td>\n",
       "      <td>0.169001</td>\n",
       "      <td>113.779001</td>\n",
       "    </tr>\n",
       "    <tr>\n",
       "      <th>4</th>\n",
       "      <td>956747.0</td>\n",
       "      <td>972833.0</td>\n",
       "      <td>68.50</td>\n",
       "      <td>0.174159</td>\n",
       "      <td>68.674159</td>\n",
       "    </tr>\n",
       "  </tbody>\n",
       "</table>\n",
       "</div>"
      ],
      "text/plain": [
       "     Source    Target  WeightCount  weight_cosine  sum_weight\n",
       "0  977782.0  958531.0        40.71       0.154096   40.864096\n",
       "1  957474.0  972565.0        32.86       0.158097   33.018097\n",
       "2  972587.0  956605.0        64.82       0.166651   64.986651\n",
       "3  972548.0  957464.0       113.61       0.169001  113.779001\n",
       "4  956747.0  972833.0        68.50       0.174159   68.674159"
      ]
     },
     "execution_count": 120,
     "metadata": {},
     "output_type": "execute_result"
    }
   ],
   "source": [
    "# merge these duplicates because of undirected graph\n",
    "bootstrapgraph = bootstrapgraph.groupby('duplicates').agg({'Source':'first', 'Target':'first','WeightCount':'sum', 'weight_cosine':'sum'}).reset_index(drop=True)\n",
    "\n",
    "# create a summed weight score (implies greater relevance for co-occurrence frequency due to scaling)\n",
    "bootstrapgraph['sum_weight'] = bootstrapgraph['WeightCount'] + bootstrapgraph['weight_cosine'] \n",
    "\n",
    "print(bootstrapgraph.shape)\n",
    "bootstrapgraph.head()"
   ]
  },
  {
   "cell_type": "code",
   "execution_count": 121,
   "metadata": {},
   "outputs": [],
   "source": [
    "# copy the data,trying to normalize the data\n",
    "df_min_max_scaled = df_new.copy()"
   ]
  },
  {
   "cell_type": "code",
   "execution_count": 11,
   "metadata": {},
   "outputs": [
    {
     "data": {
      "text/html": [
       "<div>\n",
       "<style scoped>\n",
       "    .dataframe tbody tr th:only-of-type {\n",
       "        vertical-align: middle;\n",
       "    }\n",
       "\n",
       "    .dataframe tbody tr th {\n",
       "        vertical-align: top;\n",
       "    }\n",
       "\n",
       "    .dataframe thead th {\n",
       "        text-align: right;\n",
       "    }\n",
       "</style>\n",
       "<table border=\"1\" class=\"dataframe\">\n",
       "  <thead>\n",
       "    <tr style=\"text-align: right;\">\n",
       "      <th></th>\n",
       "      <th>Source</th>\n",
       "      <th>Target</th>\n",
       "      <th>WeightCount</th>\n",
       "      <th>weight_cosine</th>\n",
       "      <th>sum_weight</th>\n",
       "    </tr>\n",
       "  </thead>\n",
       "  <tbody>\n",
       "    <tr>\n",
       "      <th>0</th>\n",
       "      <td>977782.0</td>\n",
       "      <td>958531.0</td>\n",
       "      <td>43852</td>\n",
       "      <td>0.179736</td>\n",
       "      <td>43852.179736</td>\n",
       "    </tr>\n",
       "    <tr>\n",
       "      <th>1</th>\n",
       "      <td>974694.0</td>\n",
       "      <td>957074.0</td>\n",
       "      <td>4</td>\n",
       "      <td>0.103813</td>\n",
       "      <td>4.103813</td>\n",
       "    </tr>\n",
       "    <tr>\n",
       "      <th>2</th>\n",
       "      <td>955769.0</td>\n",
       "      <td>954469.0</td>\n",
       "      <td>4</td>\n",
       "      <td>0.283691</td>\n",
       "      <td>4.283691</td>\n",
       "    </tr>\n",
       "  </tbody>\n",
       "</table>\n",
       "</div>"
      ],
      "text/plain": [
       "     Source    Target  WeightCount  weight_cosine    sum_weight\n",
       "0  977782.0  958531.0        43852       0.179736  43852.179736\n",
       "1  974694.0  957074.0            4       0.103813      4.103813\n",
       "2  955769.0  954469.0            4       0.283691      4.283691"
      ]
     },
     "execution_count": 11,
     "metadata": {},
     "output_type": "execute_result"
    }
   ],
   "source": [
    "df_min_max_scaled.head(3)"
   ]
  },
  {
   "cell_type": "code",
   "execution_count": 12,
   "metadata": {},
   "outputs": [],
   "source": [
    "# apply normalization techniques by WeightCount\n",
    "column = 'WeightCount'\n",
    "df_min_max_scaled[column] = (df_min_max_scaled[column] - df_min_max_scaled[column].min()) / (df_min_max_scaled[column].max() - df_min_max_scaled[column].min())    "
   ]
  },
  {
   "cell_type": "code",
   "execution_count": 13,
   "metadata": {},
   "outputs": [
    {
     "data": {
      "text/html": [
       "<div>\n",
       "<style scoped>\n",
       "    .dataframe tbody tr th:only-of-type {\n",
       "        vertical-align: middle;\n",
       "    }\n",
       "\n",
       "    .dataframe tbody tr th {\n",
       "        vertical-align: top;\n",
       "    }\n",
       "\n",
       "    .dataframe thead th {\n",
       "        text-align: right;\n",
       "    }\n",
       "</style>\n",
       "<table border=\"1\" class=\"dataframe\">\n",
       "  <thead>\n",
       "    <tr style=\"text-align: right;\">\n",
       "      <th></th>\n",
       "      <th>Source</th>\n",
       "      <th>Target</th>\n",
       "      <th>WeightCount</th>\n",
       "      <th>weight_cosine</th>\n",
       "      <th>sum_weight</th>\n",
       "    </tr>\n",
       "  </thead>\n",
       "  <tbody>\n",
       "    <tr>\n",
       "      <th>0</th>\n",
       "      <td>977782.0</td>\n",
       "      <td>958531.0</td>\n",
       "      <td>0.998838</td>\n",
       "      <td>0.179736</td>\n",
       "      <td>43852.179736</td>\n",
       "    </tr>\n",
       "    <tr>\n",
       "      <th>1</th>\n",
       "      <td>974694.0</td>\n",
       "      <td>957074.0</td>\n",
       "      <td>0.000046</td>\n",
       "      <td>0.103813</td>\n",
       "      <td>4.103813</td>\n",
       "    </tr>\n",
       "    <tr>\n",
       "      <th>2</th>\n",
       "      <td>955769.0</td>\n",
       "      <td>954469.0</td>\n",
       "      <td>0.000046</td>\n",
       "      <td>0.283691</td>\n",
       "      <td>4.283691</td>\n",
       "    </tr>\n",
       "    <tr>\n",
       "      <th>3</th>\n",
       "      <td>1589294.0</td>\n",
       "      <td>1609453.0</td>\n",
       "      <td>0.000046</td>\n",
       "      <td>0.223675</td>\n",
       "      <td>4.223675</td>\n",
       "    </tr>\n",
       "    <tr>\n",
       "      <th>4</th>\n",
       "      <td>958252.0</td>\n",
       "      <td>956339.0</td>\n",
       "      <td>0.000046</td>\n",
       "      <td>0.346372</td>\n",
       "      <td>4.346372</td>\n",
       "    </tr>\n",
       "  </tbody>\n",
       "</table>\n",
       "</div>"
      ],
      "text/plain": [
       "      Source     Target  WeightCount  weight_cosine    sum_weight\n",
       "0   977782.0   958531.0     0.998838       0.179736  43852.179736\n",
       "1   974694.0   957074.0     0.000046       0.103813      4.103813\n",
       "2   955769.0   954469.0     0.000046       0.283691      4.283691\n",
       "3  1589294.0  1609453.0     0.000046       0.223675      4.223675\n",
       "4   958252.0   956339.0     0.000046       0.346372      4.346372"
      ]
     },
     "execution_count": 13,
     "metadata": {},
     "output_type": "execute_result"
    }
   ],
   "source": [
    "df_min_max_scaled.head(5)"
   ]
  },
  {
   "cell_type": "code",
   "execution_count": 28,
   "metadata": {},
   "outputs": [
    {
     "data": {
      "text/html": [
       "<div>\n",
       "<style scoped>\n",
       "    .dataframe tbody tr th:only-of-type {\n",
       "        vertical-align: middle;\n",
       "    }\n",
       "\n",
       "    .dataframe tbody tr th {\n",
       "        vertical-align: top;\n",
       "    }\n",
       "\n",
       "    .dataframe thead th {\n",
       "        text-align: right;\n",
       "    }\n",
       "</style>\n",
       "<table border=\"1\" class=\"dataframe\">\n",
       "  <thead>\n",
       "    <tr style=\"text-align: right;\">\n",
       "      <th></th>\n",
       "      <th>skill_id</th>\n",
       "    </tr>\n",
       "  </thead>\n",
       "  <tbody>\n",
       "    <tr>\n",
       "      <th>0</th>\n",
       "      <td>7.0</td>\n",
       "    </tr>\n",
       "    <tr>\n",
       "      <th>1</th>\n",
       "      <td>14.0</td>\n",
       "    </tr>\n",
       "    <tr>\n",
       "      <th>2</th>\n",
       "      <td>21.0</td>\n",
       "    </tr>\n",
       "  </tbody>\n",
       "</table>\n",
       "</div>"
      ],
      "text/plain": [
       "   skill_id\n",
       "0       7.0\n",
       "1      14.0\n",
       "2      21.0"
      ]
     },
     "execution_count": 28,
     "metadata": {},
     "output_type": "execute_result"
    }
   ],
   "source": [
    "#reading the vertices\n",
    "skills_labels = pd.read_csv(r\"C:\\Users\\manas\\Documents\\Master Thesis\\code\\Manasa2022\\skill_id\\testing\\skill_id_from_word2vec.csv\")\n",
    "skills_labels.head(3)"
   ]
  },
  {
   "cell_type": "code",
   "execution_count": 122,
   "metadata": {},
   "outputs": [],
   "source": [
    "#construct graph using igraph library\n",
    "import igraph\n",
    "from igraph import Graph, compare_communities, drawing\n",
    "G =  igraph.Graph.DataFrame(bootstrapgraph, directed=False, use_vids=False)"
   ]
  },
  {
   "cell_type": "code",
   "execution_count": 123,
   "metadata": {},
   "outputs": [
    {
     "name": "stdout",
     "output_type": "stream",
     "text": [
      " The graph has 141 vertices and 500 edges.\n"
     ]
    }
   ],
   "source": [
    "# check number of vertices and edges\n",
    "nr_vertices = G.vcount()\n",
    "nr_edges = G.ecount()\n",
    "print(f' The graph has {nr_vertices} vertices and {nr_edges} edges.')"
   ]
  },
  {
   "cell_type": "code",
   "execution_count": 124,
   "metadata": {},
   "outputs": [
    {
     "name": "stdout",
     "output_type": "stream",
     "text": [
      "The highest number of degrees is 44\n",
      "The highest eigenvector centrality score is 1.0\n"
     ]
    }
   ],
   "source": [
    "# get degrees and eigenvector centrality for vertices\n",
    "#Vertex degree: number of edges adjacent to it.\n",
    "#Eigenvector centrality: measure of the influence of a node in a network. A high eigenvector score means \n",
    "#that a vertex is connected to many nodes who themselves have high scores.\n",
    "degree = G.degree()\n",
    "eig_centr = G.eigenvector_centrality()\n",
    "print(f'The highest number of degrees is {G.maxdegree()}')\n",
    "print(f'The highest eigenvector centrality score is {max(eig_centr)}')"
   ]
  },
  {
   "cell_type": "code",
   "execution_count": 125,
   "metadata": {},
   "outputs": [
    {
     "data": {
      "image/png": "[encoded data removed]",
      "text/plain": [
       "<Figure size 720x432 with 2 Axes>"
      ]
     },
     "metadata": {
      "needs_background": "light"
     },
     "output_type": "display_data"
    }
   ],
   "source": [
    "# plot degree and eigenvector centrality distributions\n",
    "import seaborn as sns\n",
    "fig, axs = plt.subplots(2,1, tight_layout=True, figsize=(10,6))\n",
    "\n",
    "sns.histplot(degree, kde=True, bins=50, color = 'darkblue', ax=axs[0])\n",
    "sns.histplot(eig_centr, kde=True, bins=50, color = 'darkgreen', ax=axs[1])\n",
    "\n",
    "axs[0].set(title='Distribution of degrees', xlabel='number of degrees')\n",
    "axs[1].set(title='Distribution of eigenvector centrality', xlabel='eigenvector centrality')\n",
    "\n",
    "plt.show()"
   ]
  },
  {
   "cell_type": "code",
   "execution_count": 126,
   "metadata": {},
   "outputs": [
    {
     "name": "stdout",
     "output_type": "stream",
     "text": [
      " The skill with the most adjacent edges to it is: [958531.0]\n"
     ]
    }
   ],
   "source": [
    "print(f' The skill with the most adjacent edges to it is: {G.vs.select(_degree = G.maxdegree())[\"name\"]}')"
   ]
  },
  {
   "cell_type": "code",
   "execution_count": 127,
   "metadata": {},
   "outputs": [],
   "source": [
    "# using co-occurrence frequency as edge weights\n",
    "louv_freq_coms_lay1 = G.community_multilevel(weights='WeightCount')\n",
    "louv_freq_mod_lay1 = G.modularity(louv_freq_coms_lay1, weights='WeightCount')"
   ]
  },
  {
   "cell_type": "code",
   "execution_count": 128,
   "metadata": {},
   "outputs": [
    {
     "name": "stdout",
     "output_type": "stream",
     "text": [
      "11 clusters were detected, with the following sizes:[2, 24, 21, 37, 13, 5, 15, 18, 2, 2, 2]\n"
     ]
    }
   ],
   "source": [
    "print(f'{len(louv_freq_coms_lay1)} clusters were detected, with the following sizes:{louv_freq_coms_lay1.sizes()}')"
   ]
  },
  {
   "cell_type": "code",
   "execution_count": 129,
   "metadata": {},
   "outputs": [],
   "source": [
    "# using cosine similarity as edge weights\n",
    "louv_cs_coms_lay1 = G.community_multilevel(weights='weight_cosine')\n",
    "louv_cs_mod_lay1 = G.modularity(louv_cs_coms_lay1, weights='weight_cosine')"
   ]
  },
  {
   "cell_type": "code",
   "execution_count": 130,
   "metadata": {},
   "outputs": [
    {
     "name": "stdout",
     "output_type": "stream",
     "text": [
      "10 clusters were detected, with the following sizes:[2, 30, 33, 23, 24, 5, 11, 9, 2, 2]\n"
     ]
    }
   ],
   "source": [
    "print(f'{len(louv_cs_coms_lay1)} clusters were detected, with the following sizes:{louv_cs_coms_lay1.sizes()}')"
   ]
  },
  {
   "cell_type": "code",
   "execution_count": 131,
   "metadata": {},
   "outputs": [],
   "source": [
    "# using the sum score as edge weights\n",
    "louv_sum_coms_lay1 = G.community_multilevel(weights='sum_weight')\n",
    "louv_sum_mod_lay1 = G.modularity(louv_cs_coms_lay1, weights='sum_weight')"
   ]
  },
  {
   "cell_type": "code",
   "execution_count": 132,
   "metadata": {},
   "outputs": [
    {
     "name": "stdout",
     "output_type": "stream",
     "text": [
      "12 clusters were detected, with the following sizes:[2, 2, 21, 29, 23, 13, 5, 23, 7, 12, 2, 2]\n"
     ]
    }
   ],
   "source": [
    "print(f'{len(louv_sum_coms_lay1)} clusters were detected, with the following sizes:{louv_sum_coms_lay1.sizes()}')"
   ]
  },
  {
   "cell_type": "code",
   "execution_count": 133,
   "metadata": {},
   "outputs": [
    {
     "name": "stdout",
     "output_type": "stream",
     "text": [
      "modularity for partition with co-occurence as edge weights: 0.3905001753144542\n",
      "modularity for partition with cosine similarity as edge weights: 0.37271890348091946\n",
      "modularity for partition with sum weight as edge weights: 0.37083192041413615\n"
     ]
    }
   ],
   "source": [
    "# compare modularity scores across the different Louvain partitions\n",
    "print(f'modularity for partition with co-occurence as edge weights: {louv_freq_mod_lay1}')\n",
    "print(f'modularity for partition with cosine similarity as edge weights: {louv_cs_mod_lay1}')\n",
    "print(f'modularity for partition with sum weight as edge weights: {louv_sum_mod_lay1}')"
   ]
  },
  {
   "cell_type": "code",
   "execution_count": 134,
   "metadata": {},
   "outputs": [
    {
     "name": "stdout",
     "output_type": "stream",
     "text": [
      "NMI comparing co-occurence frequency vs. cosine similarity as edge weights: 0.625529485082621\n",
      "NMI comparing co-occurence frequency vs. summed score as edge weights: 0.7278531917059898\n",
      "NMI comparing cosine similarity vs. summed score as edge weights: 0.6083756980895814\n"
     ]
    }
   ],
   "source": [
    "# check resemblance between Louvain community detection solutions\n",
    "louv_nmi1 = compare_communities(louv_freq_coms_lay1, louv_cs_coms_lay1, method=\"nmi\")\n",
    "louv_nmi2 = compare_communities(louv_freq_coms_lay1, louv_sum_coms_lay1, method=\"nmi\")\n",
    "louv_nmi3 = compare_communities(louv_cs_coms_lay1, louv_sum_coms_lay1, method=\"nmi\")\n",
    "print(f'NMI comparing co-occurence frequency vs. cosine similarity as edge weights: {louv_nmi1}')\n",
    "print(f'NMI comparing co-occurence frequency vs. summed score as edge weights: {louv_nmi2}')\n",
    "print(f'NMI comparing cosine similarity vs. summed score as edge weights: {louv_nmi3}')"
   ]
  },
  {
   "cell_type": "code",
   "execution_count": 135,
   "metadata": {},
   "outputs": [],
   "source": [
    "# using co-occurrence frequency as edge weights\n",
    "leid_freq_coms_lay1 = G.community_leiden(objective_function=\"modularity\", weights='WeightCount',\n",
    "                                      n_iterations=1000)\n",
    "leid_freq_mod_lay1 = G.modularity(leid_freq_coms_lay1, weights='WeightCount')"
   ]
  },
  {
   "cell_type": "code",
   "execution_count": 136,
   "metadata": {},
   "outputs": [
    {
     "name": "stdout",
     "output_type": "stream",
     "text": [
      "0.39851406516069754\n"
     ]
    }
   ],
   "source": [
    "print(leid_freq_mod_lay1)"
   ]
  },
  {
   "cell_type": "code",
   "execution_count": 137,
   "metadata": {},
   "outputs": [
    {
     "name": "stdout",
     "output_type": "stream",
     "text": [
      "11 clusters were detected, with the following sizes:[2, 30, 27, 34, 16, 5, 14, 7, 2, 2, 2]\n"
     ]
    }
   ],
   "source": [
    "print(f'{len(leid_freq_coms_lay1)} clusters were detected, with the following sizes:{leid_freq_coms_lay1.sizes()}')"
   ]
  },
  {
   "cell_type": "code",
   "execution_count": 138,
   "metadata": {},
   "outputs": [],
   "source": [
    "# using cosine similarity as edge weights\n",
    "leid_cs_coms_lay1 = G.community_leiden(objective_function=\"modularity\", weights='weight_cosine',\n",
    "                                      n_iterations=1000)\n",
    "leid_cs_mod_lay1 = G.modularity(leid_cs_coms_lay1, weights='weight_cosine')"
   ]
  },
  {
   "cell_type": "code",
   "execution_count": 139,
   "metadata": {},
   "outputs": [
    {
     "name": "stdout",
     "output_type": "stream",
     "text": [
      "10 clusters were detected, with the following sizes:[2, 10, 32, 24, 33, 22, 5, 9, 2, 2]\n"
     ]
    }
   ],
   "source": [
    "print(f'{len(leid_cs_coms_lay1)} clusters were detected, with the following sizes:{leid_cs_coms_lay1.sizes()}')"
   ]
  },
  {
   "cell_type": "code",
   "execution_count": 140,
   "metadata": {},
   "outputs": [],
   "source": [
    "# using the sum score as edge weights\n",
    "leid_sum_coms_lay1 = G.community_leiden(objective_function=\"modularity\", weights='sum_weight',\n",
    "                                      n_iterations=1000)\n",
    "leid_sum_mod_lay1 = G.modularity(leid_sum_coms_lay1, weights='sum_weight')"
   ]
  },
  {
   "cell_type": "code",
   "execution_count": 141,
   "metadata": {},
   "outputs": [
    {
     "name": "stdout",
     "output_type": "stream",
     "text": [
      "0.39822663335696284\n"
     ]
    }
   ],
   "source": [
    "print(leid_sum_mod_lay1)"
   ]
  },
  {
   "cell_type": "code",
   "execution_count": 142,
   "metadata": {},
   "outputs": [
    {
     "name": "stdout",
     "output_type": "stream",
     "text": [
      "10 clusters were detected, with the following sizes:[2, 19, 25, 31, 23, 5, 25, 7, 2, 2]\n"
     ]
    }
   ],
   "source": [
    "print(f'{len(leid_sum_coms_lay1)} clusters were detected, with the following sizes:{leid_sum_coms_lay1.sizes()}')"
   ]
  },
  {
   "cell_type": "code",
   "execution_count": 114,
   "metadata": {},
   "outputs": [
    {
     "name": "stdout",
     "output_type": "stream",
     "text": [
      "modularity for partition with co-occurence as edge weights: 0.3836045999402174\n",
      "modularity for partition with cosine similarity as edge weights: 0.3846376067487418\n",
      "modularity for partition with sum weight as edge weights: 0.381430602233401\n"
     ]
    }
   ],
   "source": [
    "# compare modularity scores across the different Leiden partitions\n",
    "print(f'modularity for partition with co-occurence as edge weights: {leid_freq_mod_lay1}')\n",
    "print(f'modularity for partition with cosine similarity as edge weights: {leid_cs_mod_lay1}')\n",
    "print(f'modularity for partition with sum weight as edge weights: {leid_sum_mod_lay1}')"
   ]
  },
  {
   "cell_type": "code",
   "execution_count": 80,
   "metadata": {},
   "outputs": [
    {
     "name": "stdout",
     "output_type": "stream",
     "text": [
      "NMI comparing co-occurence frequency vs. cosine similarity as edge weights: 1.0\n",
      "NMI comparing co-occurence frequency vs. summed score as edge weights: 1.0\n",
      "NMI comparing cosine similarity vs. summed score as edge weights: 1.0\n"
     ]
    }
   ],
   "source": [
    "# check resemblance between Louvain community detection solutions\n",
    "leid_nmi1 = compare_communities(leid_freq_coms_lay1, leid_cs_coms_lay1, method=\"nmi\")\n",
    "leid_nmi2 = compare_communities(leid_freq_coms_lay1, leid_sum_coms_lay1, method=\"nmi\")\n",
    "leid_nmi3 = compare_communities(leid_cs_coms_lay1, leid_sum_coms_lay1, method=\"nmi\")\n",
    "print(f'NMI comparing co-occurence frequency vs. cosine similarity as edge weights: {leid_nmi1}')\n",
    "print(f'NMI comparing co-occurence frequency vs. summed score as edge weights: {leid_nmi2}')\n",
    "print(f'NMI comparing cosine similarity vs. summed score as edge weights: {leid_nmi3}')"
   ]
  },
  {
   "cell_type": "code",
   "execution_count": 84,
   "metadata": {},
   "outputs": [
    {
     "data": {
      "image/png": "[encoded data removed]",
      "text/plain": [
       "<Figure size 720x432 with 1 Axes>"
      ]
     },
     "metadata": {
      "needs_background": "light"
     },
     "output_type": "display_data"
    }
   ],
   "source": [
    "# plot modularity scores for the three different algorithms\n",
    "\n",
    "x=['co-occurrence frequency','cosine similarity', 'summed measures']\n",
    "y_louv=[louv_freq_mod_lay1, louv_cs_mod_lay1, louv_sum_mod_lay1]\n",
    "y_leid=[leid_freq_mod_lay1, leid_cs_mod_lay1, leid_sum_mod_lay1]\n",
    "\n",
    "modul_data = pd.DataFrame({'edge weight': x, 'Louvain': y_louv, 'Leiden': y_leid})\n",
    "\n",
    "plt.figure(figsize=(10,6))\n",
    "sns.lineplot(x='edge weight', y='value', hue='variable', data=pd.melt(modul_data, ['edge weight']))\n",
    "plt.title('Modularity scores across community detection algorithms')\n",
    "plt.xlabel(\"edge weight\", fontsize='large')\n",
    "plt.ylabel(\"modularity\", fontsize='large')\n",
    "plt.show()"
   ]
  },
  {
   "cell_type": "code",
   "execution_count": 46,
   "metadata": {},
   "outputs": [
    {
     "data": {
      "text/html": [
       "<div>\n",
       "<style scoped>\n",
       "    .dataframe tbody tr th:only-of-type {\n",
       "        vertical-align: middle;\n",
       "    }\n",
       "\n",
       "    .dataframe tbody tr th {\n",
       "        vertical-align: top;\n",
       "    }\n",
       "\n",
       "    .dataframe thead th {\n",
       "        text-align: right;\n",
       "    }\n",
       "</style>\n",
       "<table border=\"1\" class=\"dataframe\">\n",
       "  <thead>\n",
       "    <tr style=\"text-align: right;\">\n",
       "      <th></th>\n",
       "      <th>skill_id</th>\n",
       "      <th>c_layer1</th>\n",
       "    </tr>\n",
       "  </thead>\n",
       "  <tbody>\n",
       "    <tr>\n",
       "      <th>0</th>\n",
       "      <td>954335.0</td>\n",
       "      <td>0</td>\n",
       "    </tr>\n",
       "    <tr>\n",
       "      <th>1</th>\n",
       "      <td>954426.0</td>\n",
       "      <td>1</td>\n",
       "    </tr>\n",
       "    <tr>\n",
       "      <th>2</th>\n",
       "      <td>954527.0</td>\n",
       "      <td>2</td>\n",
       "    </tr>\n",
       "    <tr>\n",
       "      <th>3</th>\n",
       "      <td>954574.0</td>\n",
       "      <td>1</td>\n",
       "    </tr>\n",
       "    <tr>\n",
       "      <th>4</th>\n",
       "      <td>954589.0</td>\n",
       "      <td>3</td>\n",
       "    </tr>\n",
       "    <tr>\n",
       "      <th>5</th>\n",
       "      <td>954791.0</td>\n",
       "      <td>4</td>\n",
       "    </tr>\n",
       "    <tr>\n",
       "      <th>6</th>\n",
       "      <td>954841.0</td>\n",
       "      <td>3</td>\n",
       "    </tr>\n",
       "    <tr>\n",
       "      <th>7</th>\n",
       "      <td>954981.0</td>\n",
       "      <td>4</td>\n",
       "    </tr>\n",
       "    <tr>\n",
       "      <th>8</th>\n",
       "      <td>955020.0</td>\n",
       "      <td>5</td>\n",
       "    </tr>\n",
       "    <tr>\n",
       "      <th>9</th>\n",
       "      <td>955034.0</td>\n",
       "      <td>1</td>\n",
       "    </tr>\n",
       "  </tbody>\n",
       "</table>\n",
       "</div>"
      ],
      "text/plain": [
       "   skill_id  c_layer1\n",
       "0  954335.0         0\n",
       "1  954426.0         1\n",
       "2  954527.0         2\n",
       "3  954574.0         1\n",
       "4  954589.0         3\n",
       "5  954791.0         4\n",
       "6  954841.0         3\n",
       "7  954981.0         4\n",
       "8  955020.0         5\n",
       "9  955034.0         1"
      ]
     },
     "execution_count": 46,
     "metadata": {},
     "output_type": "execute_result"
    }
   ],
   "source": [
    "# get cluster allocation of skills for layer 1 of taxonomy\n",
    "lay1_c_list = pd.Series(leid_sum_coms_lay1.membership)\n",
    "lay1_skills = pd.Series(G.vs[\"name\"])\n",
    "\n",
    "layer1_df=pd.concat([lay1_skills, lay1_c_list], axis=1)\n",
    "layer1_df.rename(columns={0:\"skill_id\", 1:\"c_layer1\"}, inplace=True)\n",
    "layer1_df.head(10)"
   ]
  },
  {
   "cell_type": "code",
   "execution_count": 47,
   "metadata": {},
   "outputs": [
    {
     "data": {
      "text/plain": [
       "10"
      ]
     },
     "execution_count": 47,
     "metadata": {},
     "output_type": "execute_result"
    }
   ],
   "source": [
    "#Layer 2 of skills taxonomy\n",
    "len(leid_sum_coms_lay1)"
   ]
  },
  {
   "cell_type": "code",
   "execution_count": 48,
   "metadata": {},
   "outputs": [],
   "source": [
    "#second layer \n",
    "for i in range(len(leid_sum_coms_lay1)):\n",
    "    \n",
    "    if i == 0:\n",
    "        G2_0 = leid_sum_coms_lay1.subgraph(i)\n",
    "        leid_sum_coms_lay2_0 = G2_0.community_leiden(objective_function=\"modularity\", weights='sum_weight',\n",
    "                                                n_iterations=1000)\n",
    "        leid_sum_mod_lay2_0 = G2_0.modularity(leid_sum_coms_lay2_0, weights='sum_weight')\n",
    "    elif i == 1:\n",
    "        G2_1 = leid_sum_coms_lay1.subgraph(i)\n",
    "        leid_sum_coms_lay2_1 = G2_1.community_leiden(objective_function=\"modularity\", weights='sum_weight',\n",
    "                                                n_iterations=1000)\n",
    "        leid_sum_mod_lay2_1 = G2_1.modularity(leid_sum_coms_lay2_1, weights='sum_weight')\n",
    "    elif i == 2:\n",
    "        G2_2 = leid_sum_coms_lay1.subgraph(i)\n",
    "        leid_sum_coms_lay2_2 = G2_2.community_leiden(objective_function=\"modularity\", weights='sum_weight',\n",
    "                                                n_iterations=1000)\n",
    "        leid_sum_mod_lay2_2 = G2_2.modularity(leid_sum_coms_lay2_2, weights='sum_weight')\n",
    "    elif i == 3:\n",
    "        G2_3 = leid_sum_coms_lay1.subgraph(i)\n",
    "        leid_sum_coms_lay2_3 = G2_3.community_leiden(objective_function=\"modularity\", weights='sum_weight',\n",
    "                                                n_iterations=1000)\n",
    "        leid_sum_mod_lay2_3 = G2_3.modularity(leid_sum_coms_lay2_3, weights='sum_weight')\n",
    "    elif i == 4:\n",
    "        G2_4 = leid_sum_coms_lay1.subgraph(i)\n",
    "        leid_sum_coms_lay2_4 = G2_4.community_leiden(objective_function=\"modularity\", weights='sum_weight',\n",
    "                                                n_iterations=1000)\n",
    "        leid_sum_mod_lay2_4 = G2_4.modularity(leid_sum_coms_lay2_4, weights='sum_weight')\n",
    "    elif i == 5:\n",
    "        G2_5 = leid_sum_coms_lay1.subgraph(i)\n",
    "        leid_sum_coms_lay2_5 = G2_5.community_leiden(objective_function=\"modularity\", weights='sum_weight',\n",
    "                                                n_iterations=1000)\n",
    "        leid_sum_mod_lay2_5 = G2_5.modularity(leid_sum_coms_lay2_5, weights='sum_weight')\n",
    "    elif i == 6:\n",
    "        G2_6 = leid_sum_coms_lay1.subgraph(i)\n",
    "        leid_sum_coms_lay2_6 = G2_6.community_leiden(objective_function=\"modularity\", weights='sum_weight',\n",
    "                                                n_iterations=1000)\n",
    "        leid_sum_mod_lay2_6 = G2_6.modularity(leid_sum_coms_lay2_6, weights='sum_weight')\n",
    "    elif i == 7:\n",
    "        G2_7 = leid_sum_coms_lay1.subgraph(i)\n",
    "        leid_sum_coms_lay2_7 = G2_7.community_leiden(objective_function=\"modularity\", weights='sum_weight',\n",
    "                                                n_iterations=1000)\n",
    "        leid_sum_mod_lay2_7 = G2_7.modularity(leid_sum_coms_lay2_7, weights='sum_weight')\n",
    "    elif i == 8:\n",
    "        G2_8 = leid_sum_coms_lay1.subgraph(i)\n",
    "        leid_sum_coms_lay2_8 = G2_8.community_leiden(objective_function=\"modularity\", weights='sum_weight',\n",
    "                                                n_iterations=1000)\n",
    "        leid_sum_mod_lay2_8 = G2_8.modularity(leid_sum_coms_lay2_8, weights='sum_weight')\n",
    "    elif i == 9:\n",
    "        G2_9 = leid_sum_coms_lay1.subgraph(i)\n",
    "        leid_sum_coms_lay2_9 = G2_9.community_leiden(objective_function=\"modularity\", weights='sum_weight',\n",
    "                                                n_iterations=1000)\n",
    "        leid_sum_mod_lay2_9 = G2_9.modularity(leid_sum_coms_lay2_9, weights='sum_weight')\n",
    "    elif i == 10:\n",
    "        G2_10 = leid_sum_coms_lay1.subgraph(i)\n",
    "        leid_sum_coms_lay2_10 = G2_10.community_leiden(objective_function=\"modularity\", weights='sum_weight',\n",
    "                                                n_iterations=1000)\n",
    "        leid_sum_mod_lay2_10 = G2_10.modularity(leid_sum_coms_lay2_10, weights='sum_weight')\n",
    "    elif i == 11:\n",
    "        G2_11 = leid_sum_coms_lay1.subgraph(i)\n",
    "        leid_sum_coms_lay2_11 = G2_11.community_leiden(objective_function=\"modularity\", weights='sum_weight',\n",
    "                                                n_iterations=1000)\n",
    "        leid_sum_mod_lay2_11 = G2_11.modularity(leid_sum_coms_lay2_11, weights='sum_weight')     \n",
    "    elif i == 12:\n",
    "        G2_12 = leid_sum_coms_lay1.subgraph(i)\n",
    "        leid_sum_coms_lay2_12 = G2_12.community_leiden(objective_function=\"modularity\", weights='sum_weight',\n",
    "                                                n_iterations=1000)\n",
    "        leid_sum_mod_lay2_12 = G2_12.modularity(leid_sum_coms_lay2_12, weights='sum_weight')\n",
    "    elif i == 13 :\n",
    "        G2_13 = leid_sum_coms_lay1.subgraph(i)\n",
    "        leid_sum_coms_lay2_13 = G2_13.community_leiden(objective_function=\"modularity\", weights='sum_weight',\n",
    "                                                n_iterations=1000)\n",
    "        leid_sum_mod_lay2_13 = G2_13.modularity(leid_sum_coms_lay2_13, weights='sum_weight')\n",
    "    elif i == 14:\n",
    "        G2_14 = leid_sum_coms_lay1.subgraph(i)\n",
    "        leid_sum_coms_lay2_14 = G2_14.community_leiden(objective_function=\"modularity\", weights='sum_weight',\n",
    "                                                n_iterations=1000)\n",
    "        leid_sum_mod_lay2_14 = G2_14.modularity(leid_sum_coms_lay2_14, weights='sum_weight')\n",
    "    elif i == 15:\n",
    "        G2_15 = leid_sum_coms_lay1.subgraph(i)\n",
    "        leid_sum_coms_lay2_15 = G2_15.community_leiden(objective_function=\"modularity\", weights='sum_weight',\n",
    "                                                n_iterations=1000)\n",
    "        leid_sum_mod_lay2_15 = G2_15.modularity(leid_sum_coms_lay2_15, weights='sum_weight')\n",
    "    elif i == 16:\n",
    "        G2_16 = leid_sum_coms_lay1.subgraph(i)\n",
    "        leid_sum_coms_lay2_16 = G2_16.community_leiden(objective_function=\"modularity\", weights='sum_weight',\n",
    "                                                n_iterations=1000)\n",
    "        leid_sum_mod_lay2_16 = G2_16.modularity(leid_sum_coms_lay2_16, weights='sum_weight')\n",
    "    elif i == 17:\n",
    "        G2_17 = leid_sum_coms_lay1.subgraph(i)\n",
    "        leid_sum_coms_lay2_17 = G2_17.community_leiden(objective_function=\"modularity\", weights='sum_weight',\n",
    "                                                n_iterations=1000)\n",
    "        leid_sum_mod_lay2_17 = G2_17.modularity(leid_sum_coms_lay2_17, weights='sum_weight')\n",
    "    elif i == 18:\n",
    "        G2_18 = leid_sum_coms_lay1.subgraph(i)\n",
    "        leid_sum_coms_lay2_18 = G2_18.community_leiden(objective_function=\"modularity\", weights='sum_weight',\n",
    "                                                n_iterations=1000)\n",
    "        leid_sum_mod_lay2_18 = G2_18.modularity(leid_sum_coms_lay2_18, weights='sum_weight')\n",
    "    elif i == 19:\n",
    "        G2_19 = leid_sum_coms_lay1.subgraph(i)\n",
    "        leid_sum_coms_lay2_19 = G2_19.community_leiden(objective_function=\"modularity\", weights='sum_weight',\n",
    "                                                n_iterations=1000)\n",
    "        leid_sum_mod_lay2_19 = G2_19.modularity(leid_sum_coms_lay2_19, weights='sum_weight')\n",
    "    elif i == 20:\n",
    "        G2_20 = leid_sum_coms_lay1.subgraph(i)\n",
    "        leid_sum_coms_lay2_20 = G2_20.community_leiden(objective_function=\"modularity\", weights='sum_weight',\n",
    "                                                n_iterations=1000)\n",
    "        leid_sum_mod_lay2_20 = G2_20.modularity(leid_sum_coms_lay2_20, weights='sum_weight')\n",
    "    elif i == 21:\n",
    "        G2_21 = leid_sum_coms_lay1.subgraph(i)\n",
    "        leid_sum_coms_lay2_21 = G2_21.community_leiden(objective_function=\"modularity\", weights='sum_weight',\n",
    "                                                n_iterations=1000)\n",
    "        leid_sum_mod_lay2_21 = G2_21.modularity(leid_sum_coms_lay2_21, weights='sum_weight')\n",
    "    elif i == 22:\n",
    "        G2_22 = leid_sum_coms_lay1.subgraph(i)\n",
    "        leid_sum_coms_lay2_22 = G2_22.community_leiden(objective_function=\"modularity\", weights='sum_weight',\n",
    "                                                n_iterations=1000)\n",
    "        leid_sum_mod_lay2_22 = G2_22.modularity(leid_sum_coms_lay2_22, weights='sum_weight')\n",
    "    elif i == 23:\n",
    "        G2_23 = leid_sum_coms_lay1.subgraph(i)\n",
    "        leid_sum_coms_lay2_23 = G2_23.community_leiden(objective_function=\"modularity\", weights='sum_weight',\n",
    "                                                n_iterations=1000)\n",
    "        leid_sum_mod_lay2_23 = G2_23.modularity(leid_sum_coms_lay2_23, weights='sum_weight')\n",
    "    elif i == 24:\n",
    "        G2_24 = leid_sum_coms_lay1.subgraph(i)\n",
    "        leid_sum_coms_lay2_24 = G2_24.community_leiden(objective_function=\"modularity\", weights='sum_weight',\n",
    "                                                n_iterations=1000)\n",
    "        leid_sum_mod_lay2_24 = G2_24.modularity(leid_sum_coms_lay2_24, weights='sum_weight')     \n",
    "    elif i == 25:\n",
    "        G2_25 = leid_sum_coms_lay1.subgraph(i)\n",
    "        leid_sum_coms_lay2_25 = G2_25.community_leiden(objective_function=\"modularity\", weights='sum_weight',\n",
    "                                                n_iterations=1000)\n",
    "        leid_sum_mod_lay2_25 = G2_25.modularity(leid_sum_coms_lay2_25, weights='sum_weight')\n",
    "    elif i == 26 :\n",
    "        G2_26 = leid_sum_coms_lay1.subgraph(i)\n",
    "        leid_sum_coms_lay2_26 = G2_26.community_leiden(objective_function=\"modularity\", weights='sum_weight',\n",
    "                                                n_iterations=1000)\n",
    "        leid_sum_mod_lay2_26 = G2_26.modularity(leid_sum_coms_lay2_26, weights='sum_weight')\n",
    "    elif i == 27:\n",
    "        G2_27 = leid_sum_coms_lay1.subgraph(i)\n",
    "        leid_sum_coms_lay2_27 = G2_27.community_leiden(objective_function=\"modularity\", weights='sum_weight',\n",
    "                                                n_iterations=1000)\n",
    "        leid_sum_mod_lay2_27 = G2_27.modularity(leid_sum_coms_lay2_27, weights='sum_weight')\n",
    "    elif i == 28:\n",
    "        G2_28 = leid_sum_coms_lay1.subgraph(i)\n",
    "        leid_sum_coms_lay2_28 = G2_28.community_leiden(objective_function=\"modularity\", weights='sum_weight',\n",
    "                                                n_iterations=1000)\n",
    "        leid_sum_mod_lay2_28 = G2_28.modularity(leid_sum_coms_lay2_28, weights='sum_weight')\n",
    "    elif i == 29:\n",
    "        G2_29 = leid_sum_coms_lay1.subgraph(i)\n",
    "        leid_sum_coms_lay2_29 = G2_29.community_leiden(objective_function=\"modularity\", weights='sum_weight',\n",
    "                                                n_iterations=1000)\n",
    "        leid_sum_mod_lay2_29 = G2_29.modularity(leid_sum_coms_lay2_29, weights='sum_weight')\n",
    "    elif i == 30:\n",
    "        G2_30 = leid_sum_coms_lay1.subgraph(i)\n",
    "        leid_sum_coms_lay2_30 = G2_30.community_leiden(objective_function=\"modularity\", weights='sum_weight',\n",
    "                                                n_iterations=1000)\n",
    "        leid_sum_mod_lay2_30 = G2_30.modularity(leid_sum_coms_lay2_30, weights='sum_weight')\n",
    "    elif i == 31:\n",
    "        G2_31 = leid_sum_coms_lay1.subgraph(i)\n",
    "        leid_sum_coms_lay2_31 = G2_31.community_leiden(objective_function=\"modularity\", weights='sum_weight',\n",
    "                                                n_iterations=1000)\n",
    "        leid_sum_mod_lay2_31 = G2_31.modularity(leid_sum_coms_lay2_31, weights='sum_weight')\n",
    "    elif i == 32:\n",
    "        G2_32 = leid_sum_coms_lay1.subgraph(i)\n",
    "        leid_sum_coms_lay2_32 = G2_32.community_leiden(objective_function=\"modularity\", weights='sum_weight',\n",
    "                                                n_iterations=1000)\n",
    "        leid_sum_mod_lay2_32 = G2_32.modularity(leid_sum_coms_lay2_32, weights='sum_weight')\n",
    "    elif i == 33:\n",
    "        G2_33 = leid_sum_coms_lay1.subgraph(i)\n",
    "        leid_sum_coms_lay2_33 = G2_33.community_leiden(objective_function=\"modularity\", weights='sum_weight',\n",
    "                                                n_iterations=1000)\n",
    "        leid_sum_mod_lay2_33 = G2_33.modularity(leid_sum_coms_lay2_33, weights='sum_weight')\n",
    "    elif i == 34:\n",
    "        G2_34 = leid_sum_coms_lay1.subgraph(i)\n",
    "        leid_sum_coms_lay2_34 = G2_34.community_leiden(objective_function=\"modularity\", weights='sum_weight',\n",
    "                                                n_iterations=1000)\n",
    "        leid_sum_mod_lay2_34 = G2_34.modularity(leid_sum_coms_lay2_34, weights='sum_weight')\n",
    "    elif i == 35:\n",
    "        G2_35 = leid_sum_coms_lay1.subgraph(i)\n",
    "        leid_sum_coms_lay2_35 = G2_35.community_leiden(objective_function=\"modularity\", weights='sum_weight',\n",
    "                                                n_iterations=1000)\n",
    "        leid_sum_mod_lay2_35 = G2_35.modularity(leid_sum_coms_lay2_35, weights='sum_weight')\n",
    "    elif i == 36:\n",
    "        G2_36 = leid_sum_coms_lay1.subgraph(i)\n",
    "        leid_sum_coms_lay2_36 = G2_36.community_leiden(objective_function=\"modularity\", weights='sum_weight',\n",
    "                                                n_iterations=1000)\n",
    "        leid_sum_mod_lay2_36 = G2_36.modularity(leid_sum_coms_lay2_36, weights='sum_weight')\n",
    "    elif i == 37:\n",
    "        G2_37 = leid_sum_coms_lay1.subgraph(i)\n",
    "        leid_sum_coms_lay2_37 = G2_37.community_leiden(objective_function=\"modularity\", weights='sum_weight',\n",
    "                                                n_iterations=1000)\n",
    "        leid_sum_mod_lay2_37 = G2_37.modularity(leid_sum_coms_lay2_37, weights='sum_weight')     "
   ]
  },
  {
   "cell_type": "code",
   "execution_count": null,
   "metadata": {},
   "outputs": [],
   "source": [
    "# check nested cluster structure and modularity\n",
    "print(f'{len(leid_sum_coms_lay2_0)} clusters were detected nested under cluster 0 from layer 1.\\nThese nested clusters have the following sizes: {leid_sum_coms_lay2_0.sizes()}.\\nModularity for this partition: {leid_sum_mod_lay2_0}.\\n')    \n",
    "print(f'{len(leid_sum_coms_lay2_1)} clusters were detected nested under cluster 1 from layer 1.\\nThese nested clusters have the following sizes: {leid_sum_coms_lay2_1.sizes()}.\\nModularity for this partition: {leid_sum_mod_lay2_1}.\\n')  \n",
    "print(f'{len(leid_sum_coms_lay2_2)} clusters were detected nested under cluster 2 from layer 1.\\nThese nested clusters have the following sizes: {leid_sum_coms_lay2_2.sizes()}.\\nModularity for this partition: {leid_sum_mod_lay2_2}.\\n')    \n",
    "print(f'{len(leid_sum_coms_lay2_3)} clusters were detected nested under cluster 3 from layer 1.\\nThese nested clusters have the following sizes: {leid_sum_coms_lay2_3.sizes()}.\\nModularity for this partition: {leid_sum_mod_lay2_3}.\\n')    \n",
    "print(f'{len(leid_sum_coms_lay2_4)} clusters were detected nested under cluster 4 from layer 1.\\nThese nested clusters have the following sizes: {leid_sum_coms_lay2_4.sizes()}.\\nModularity for this partition: {leid_sum_mod_lay2_4}.\\n')    \n",
    "print(f'{len(leid_sum_coms_lay2_5)} clusters were detected nested under cluster 5 from layer 1.\\nThese nested clusters have the following sizes: {leid_sum_coms_lay2_5.sizes()}.\\nModularity for this partition: {leid_sum_mod_lay2_5}.\\n')    \n",
    "print(f'{len(leid_sum_coms_lay2_6)} clusters were detected nested under cluster 6 from layer 1.\\nThese nested clusters have the following sizes: {leid_sum_coms_lay2_6.sizes()}.\\nModularity for this partition: {leid_sum_mod_lay2_6}.\\n')    \n",
    "print(f'{len(leid_sum_coms_lay2_7)} clusters were detected nested under cluster 7 from layer 1.\\nThese nested clusters have the following sizes: {leid_sum_coms_lay2_7.sizes()}.\\nModularity for this partition: {leid_sum_mod_lay2_7}.\\n')    \n",
    "print(f'{len(leid_sum_coms_lay2_8)} clusters were detected nested under cluster 8 from layer 1.\\nThese nested clusters have the following sizes: {leid_sum_coms_lay2_8.sizes()}.\\nModularity for this partition: {leid_sum_mod_lay2_8}.\\n')    \n",
    "print(f'{len(leid_sum_coms_lay2_9)} clusters were detected nested under cluster 9 from layer 1.\\nThese nested clusters have the following sizes: {leid_sum_coms_lay2_9.sizes()}.\\nModularity for this partition: {leid_sum_mod_lay2_9}.\\n')    \n",
    "print(f'{len(leid_sum_coms_lay2_10)}clusters were detected nested under cluster 10 from layer 1.\\nThese nested clusters have the following sizes:{leid_sum_coms_lay2_10.sizes()}.\\nModularity for this partition: {leid_sum_mod_lay2_10}.\\n')    \n",
    "print(f'{len(leid_sum_coms_lay2_11)}clusters were detected nested under cluster 11 from layer 1.\\nThese nested clusters have the following sizes: {leid_sum_coms_lay2_11.sizes()}.\\nModularity for this partition: {leid_sum_mod_lay2_11}.\\n')    \n",
    "print(f'{len(leid_sum_coms_lay2_12)}clusters were detected nested under cluster 12 from layer 1.\\nThese nested clusters have the following sizes: {leid_sum_coms_lay2_12.sizes()}.\\nModularity for this partition: {leid_sum_mod_lay2_12}.\\n')\n",
    "print(f'{len(leid_sum_coms_lay2_13)}clusters were detected nested under cluster 13 from layer 1.\\nThese nested clusters have the following sizes: {leid_sum_coms_lay2_13.sizes()}.\\nModularity for this partition: {leid_sum_mod_lay2_13}.\\n')\n",
    "# check nested cluster structure and modularity\n",
    "print(f'{len(leid_sum_coms_lay2_14)} clusters were detected nested under cluster 14 from layer 1.\\nThese nested clusters have the following sizes: {leid_sum_coms_lay2_14.sizes()}.\\nModularity for this partition: {leid_sum_mod_lay2_14}.\\n')    \n",
    "print(f'{len(leid_sum_coms_lay2_15)} clusters were detected nested under cluster 15 from layer 1.\\nThese nested clusters have the following sizes: {leid_sum_coms_lay2_15.sizes()}.\\nModularity for this partition: {leid_sum_mod_lay2_15}.\\n')  \n",
    "print(f'{len(leid_sum_coms_lay2_16)} clusters were detected nested under cluster 16 from layer 1.\\nThese nested clusters have the following sizes: {leid_sum_coms_lay2_16.sizes()}.\\nModularity for this partition: {leid_sum_mod_lay2_16}.\\n')    \n",
    "print(f'{len(leid_sum_coms_lay2_17)} clusters were detected nested under cluster 17 from layer 1.\\nThese nested clusters have the following sizes: {leid_sum_coms_lay2_17.sizes()}.\\nModularity for this partition: {leid_sum_mod_lay2_17}.\\n')    \n",
    "print(f'{len(leid_sum_coms_lay2_18)} clusters were detected nested under cluster 18 from layer 1.\\nThese nested clusters have the following sizes: {leid_sum_coms_lay2_18.sizes()}.\\nModularity for this partition: {leid_sum_mod_lay2_18}.\\n')    \n",
    "print(f'{len(leid_sum_coms_lay2_19)} clusters were detected nested under cluster 19 from layer 1.\\nThese nested clusters have the following sizes: {leid_sum_coms_lay2_19.sizes()}.\\nModularity for this partition: {leid_sum_mod_lay2_19}.\\n')    \n",
    "print(f'{len(leid_sum_coms_lay2_20)} clusters were detected nested under cluster 20 from layer 1.\\nThese nested clusters have the following sizes: {leid_sum_coms_lay2_20.sizes()}.\\nModularity for this partition: {leid_sum_mod_lay2_20}.\\n')    \n",
    "print(f'{len(leid_sum_coms_lay2_21)} clusters were detected nested under cluster 21 from layer 1.\\nThese nested clusters have the following sizes: {leid_sum_coms_lay2_21.sizes()}.\\nModularity for this partition: {leid_sum_mod_lay2_21}.\\n')    \n",
    "print(f'{len(leid_sum_coms_lay2_22)} clusters were detected nested under cluster 22 from layer 1.\\nThese nested clusters have the following sizes: {leid_sum_coms_lay2_22.sizes()}.\\nModularity for this partition: {leid_sum_mod_lay2_22}.\\n')    \n",
    "print(f'{len(leid_sum_coms_lay2_23)} clusters were detected nested under cluster 23 from layer 1.\\nThese nested clusters have the following sizes: {leid_sum_coms_lay2_23.sizes()}.\\nModularity for this partition: {leid_sum_mod_lay2_23}.\\n')    \n",
    "print(f'{len(leid_sum_coms_lay2_24)}clusters were detected nested under cluster 24 from layer 1.\\nThese nested clusters have the following sizes:{leid_sum_coms_lay2_24.sizes()}.\\nModularity for this partition: {leid_sum_mod_lay2_24}.\\n')    \n",
    "print(f'{len(leid_sum_coms_lay2_25)}clusters were detected nested under cluster 25 from layer 1.\\nThese nested clusters have the following sizes: {leid_sum_coms_lay2_25.sizes()}.\\nModularity for this partition: {leid_sum_mod_lay2_25}.\\n')    \n",
    "print(f'{len(leid_sum_coms_lay2_26)}clusters were detected nested under cluster 26 from layer 1.\\nThese nested clusters have the following sizes: {leid_sum_coms_lay2_26.sizes()}.\\nModularity for this partition: {leid_sum_mod_lay2_26}.\\n')\n",
    "print(f'{len(leid_sum_coms_lay2_27)}clusters were detected nested under cluster 27 from layer 1.\\nThese nested clusters have the following sizes: {leid_sum_coms_lay2_27.sizes()}.\\nModularity for this partition: {leid_sum_mod_lay2_27}.\\n')\n",
    "# check nested cluster structure and modularity\n",
    "print(f'{len(leid_sum_coms_lay2_28)} clusters were detected nested under cluster 28 from layer 1.\\nThese nested clusters have the following sizes: {leid_sum_coms_lay2_28.sizes()}.\\nModularity for this partition: {leid_sum_mod_lay2_28}.\\n')    \n",
    "print(f'{len(leid_sum_coms_lay2_29)} clusters were detected nested under cluster 29 from layer 1.\\nThese nested clusters have the following sizes: {leid_sum_coms_lay2_29.sizes()}.\\nModularity for this partition: {leid_sum_mod_lay2_29}.\\n')  \n",
    "print(f'{len(leid_sum_coms_lay2_30)} clusters were detected nested under cluster 30 from layer 1.\\nThese nested clusters have the following sizes: {leid_sum_coms_lay2_30.sizes()}.\\nModularity for this partition: {leid_sum_mod_lay2_30}.\\n')    \n",
    "print(f'{len(leid_sum_coms_lay2_31)} clusters were detected nested under cluster 31 from layer 1.\\nThese nested clusters have the following sizes: {leid_sum_coms_lay2_31.sizes()}.\\nModularity for this partition: {leid_sum_mod_lay2_31}.\\n')    \n",
    "print(f'{len(leid_sum_coms_lay2_32)} clusters were detected nested under cluster 32 from layer 1.\\nThese nested clusters have the following sizes: {leid_sum_coms_lay2_32.sizes()}.\\nModularity for this partition: {leid_sum_mod_lay2_32}.\\n')    \n",
    "print(f'{len(leid_sum_coms_lay2_33)} clusters were detected nested under cluster 33 from layer 1.\\nThese nested clusters have the following sizes: {leid_sum_coms_lay2_33.sizes()}.\\nModularity for this partition: {leid_sum_mod_lay2_33}.\\n')    \n",
    "print(f'{len(leid_sum_coms_lay2_34)} clusters were detected nested under cluster 34 from layer 1.\\nThese nested clusters have the following sizes: {leid_sum_coms_lay2_34.sizes()}.\\nModularity for this partition: {leid_sum_mod_lay2_34}.\\n')    \n",
    "print(f'{len(leid_sum_coms_lay2_35)} clusters were detected nested under cluster 35 from layer 1.\\nThese nested clusters have the following sizes: {leid_sum_coms_lay2_35.sizes()}.\\nModularity for this partition: {leid_sum_mod_lay2_35}.\\n')    \n",
    "print(f'{len(leid_sum_coms_lay2_36)} clusters were detected nested under cluster 36 from layer 1.\\nThese nested clusters have the following sizes: {leid_sum_coms_lay2_36.sizes()}.\\nModularity for this partition: {leid_sum_mod_lay2_36}.\\n')    \n",
    "print(f'{len(leid_sum_coms_lay2_37)} clusters were detected nested under cluster 37 from layer 1.\\nThese nested clusters have the following sizes: {leid_sum_coms_lay2_37.sizes()}.\\nModularity for this partition: {leid_sum_mod_lay2_37}.\\n')   \n"
   ]
  },
  {
   "cell_type": "code",
   "execution_count": null,
   "metadata": {},
   "outputs": [],
   "source": [
    "# get cluster allocation of skills for layer 2 of taxonomy\n",
    "lay2_c_list0 = pd.Series(leid_sum_coms_lay2_0.membership)\n",
    "lay2_skills0 = pd.Series(G2_0.vs[\"name\"])\n",
    "lay2_c_list1 = pd.Series(leid_sum_coms_lay2_1.membership)\n",
    "lay2_skills1 = pd.Series(G2_1.vs[\"name\"])\n",
    "lay2_c_list2 = pd.Series(leid_sum_coms_lay2_2.membership)\n",
    "lay2_skills2 = pd.Series(G2_2.vs[\"name\"])\n",
    "lay2_c_list3 = pd.Series(leid_sum_coms_lay2_3.membership)\n",
    "lay2_skills3 = pd.Series(G2_3.vs[\"name\"])\n",
    "lay2_c_list4 = pd.Series(leid_sum_coms_lay2_4.membership)\n",
    "lay2_skills4 = pd.Series(G2_4.vs[\"name\"])\n",
    "lay2_c_list5 = pd.Series(leid_sum_coms_lay2_5.membership)\n",
    "lay2_skills5 = pd.Series(G2_5.vs[\"name\"])\n",
    "lay2_c_list6 = pd.Series(leid_sum_coms_lay2_6.membership)\n",
    "lay2_skills6 = pd.Series(G2_6.vs[\"name\"])\n",
    "lay2_c_list7 = pd.Series(leid_sum_coms_lay2_7.membership)\n",
    "lay2_skills7 = pd.Series(G2_7.vs[\"name\"])\n",
    "lay2_c_list8 = pd.Series(leid_sum_coms_lay2_8.membership)\n",
    "lay2_skills8 = pd.Series(G2_8.vs[\"name\"])\n",
    "lay2_c_list9 = pd.Series(leid_sum_coms_lay2_9.membership)\n",
    "lay2_skills9 = pd.Series(G2_9.vs[\"name\"])\n",
    "lay2_c_list10 = pd.Series(leid_sum_coms_lay2_10.membership)\n",
    "lay2_skills10 = pd.Series(G2_10.vs[\"name\"])\n",
    "lay2_c_list11 = pd.Series(leid_sum_coms_lay2_11.membership)\n",
    "lay2_skills11 =  pd.Series(G2_11.vs[\"name\"])\n",
    "lay2_c_list12 = pd.Series(leid_sum_coms_lay2_12.membership)\n",
    "lay2_skills12 = pd.Series(G2_12.vs[\"name\"])\n",
    "lay2_c_list13 = pd.Series(leid_sum_coms_lay2_13.membership)\n",
    "lay2_skills13 = pd.Series(G2_13.vs[\"name\"])\n",
    "lay2_c_list14 = pd.Series(leid_sum_coms_lay2_14.membership)\n",
    "lay2_skills14 = pd.Series(G2_14.vs[\"name\"])\n",
    "lay2_c_list15 = pd.Series(leid_sum_coms_lay2_15.membership)\n",
    "lay2_skills15 = pd.Series(G2_15.vs[\"name\"])\n",
    "lay2_c_list16 = pd.Series(leid_sum_coms_lay2_16.membership)\n",
    "lay2_skills16 = pd.Series(G2_16.vs[\"name\"])\n",
    "lay2_c_list17 = pd.Series(leid_sum_coms_lay2_17.membership)\n",
    "lay2_skills17 = pd.Series(G2_17.vs[\"name\"])\n",
    "lay2_c_list18 = pd.Series(leid_sum_coms_lay2_18.membership)\n",
    "lay2_skills18 = pd.Series(G2_18.vs[\"name\"])\n",
    "lay2_c_list19 = pd.Series(leid_sum_coms_lay2_19.membership)\n",
    "lay2_skills19 = pd.Series(G2_19.vs[\"name\"])\n",
    "lay2_c_list20 = pd.Series(leid_sum_coms_lay2_20.membership)\n",
    "lay2_skills20 = pd.Series(G2_20.vs[\"name\"])\n",
    "lay2_c_list21 = pd.Series(leid_sum_coms_lay2_21.membership)\n",
    "lay2_skills21 = pd.Series(G2_21.vs[\"name\"])\n",
    "lay2_c_list22 = pd.Series(leid_sum_coms_lay2_22.membership)\n",
    "lay2_skills22 = pd.Series(G2_22.vs[\"name\"])\n",
    "lay2_c_list23 = pd.Series(leid_sum_coms_lay2_23.membership)\n",
    "lay2_skills23 = pd.Series(G2_23.vs[\"name\"])\n",
    "lay2_c_list24 = pd.Series(leid_sum_coms_lay2_24.membership)\n",
    "lay2_skills24 = pd.Series(G2_24.vs[\"name\"])\n",
    "lay2_c_list25 = pd.Series(leid_sum_coms_lay2_25.membership)\n",
    "lay2_skills25 = pd.Series(G2_25.vs[\"name\"])\n",
    "lay2_c_list26 = pd.Series(leid_sum_coms_lay2_26.membership)\n",
    "lay2_skills26 = pd.Series(G2_26.vs[\"name\"])\n",
    "lay2_c_list27 = pd.Series(leid_sum_coms_lay2_27.membership)\n",
    "lay2_skills27 = pd.Series(G2_27.vs[\"name\"])\n",
    "lay2_c_list28 = pd.Series(leid_sum_coms_lay2_28.membership)\n",
    "lay2_skills28 = pd.Series(G2_28.vs[\"name\"])\n",
    "lay2_c_list29 = pd.Series(leid_sum_coms_lay2_29.membership)\n",
    "lay2_skills29 = pd.Series(G2_29.vs[\"name\"])\n",
    "lay2_c_list30 = pd.Series(leid_sum_coms_lay2_30.membership)\n",
    "lay2_skills30 = pd.Series(G2_30.vs[\"name\"])\n",
    "lay2_c_list31 = pd.Series(leid_sum_coms_lay2_31.membership)\n",
    "lay2_skills31 = pd.Series(G2_31.vs[\"name\"])\n",
    "lay2_c_list32 = pd.Series(leid_sum_coms_lay2_32.membership)\n",
    "lay2_skills32 = pd.Series(G2_32.vs[\"name\"])\n",
    "lay2_c_list33 = pd.Series(leid_sum_coms_lay2_33.membership)\n",
    "lay2_skills33 = pd.Series(G2_33.vs[\"name\"])\n",
    "lay2_c_list34 = pd.Series(leid_sum_coms_lay2_34.membership)\n",
    "lay2_skills34 = pd.Series(G2_34.vs[\"name\"])\n",
    "lay2_c_list35 = pd.Series(leid_sum_coms_lay2_35.membership)\n",
    "lay2_skills35 = pd.Series(G2_35.vs[\"name\"])\n",
    "lay2_c_list36 = pd.Series(leid_sum_coms_lay2_36.membership)\n",
    "lay2_skills36 = pd.Series(G2_36.vs[\"name\"])\n",
    "lay2_c_list37 = pd.Series(leid_sum_coms_lay2_37.membership)\n",
    "lay2_skills37 = pd.Series(G2_37.vs[\"name\"])\n",
    "\n",
    "\n",
    "temp_df0=pd.concat([lay2_skills0, lay2_c_list0], axis=1)\n",
    "temp_df1=pd.concat([lay2_skills1, lay2_c_list1], axis=1)\n",
    "temp_df2=pd.concat([lay2_skills2, lay2_c_list2], axis=1)\n",
    "temp_df3=pd.concat([lay2_skills3, lay2_c_list3], axis=1)\n",
    "temp_df4=pd.concat([lay2_skills4, lay2_c_list4], axis=1)\n",
    "temp_df5=pd.concat([lay2_skills5, lay2_c_list5], axis=1)\n",
    "temp_df6=pd.concat([lay2_skills6, lay2_c_list6], axis=1)\n",
    "temp_df7=pd.concat([lay2_skills7, lay2_c_list7], axis=1)\n",
    "temp_df8=pd.concat([lay2_skills8, lay2_c_list8], axis=1)\n",
    "temp_df9=pd.concat([lay2_skills9, lay2_c_list9], axis=1)\n",
    "temp_df10=pd.concat([lay2_skills10, lay2_c_list10], axis=1)\n",
    "temp_df11=pd.concat([lay2_skills11, lay2_c_list11], axis=1)\n",
    "temp_df12=pd.concat([lay2_skills12, lay2_c_list12], axis=1)\n",
    "temp_df13=pd.concat([lay2_skills13, lay2_c_list13], axis=1)\n",
    "temp_df14=pd.concat([lay2_skills14, lay2_c_list14], axis=1)\n",
    "temp_df15=pd.concat([lay2_skills15, lay2_c_list15], axis=1)\n",
    "temp_df16=pd.concat([lay2_skills16, lay2_c_list16], axis=1)\n",
    "temp_df17=pd.concat([lay2_skills17, lay2_c_list17], axis=1)\n",
    "temp_df18=pd.concat([lay2_skills18, lay2_c_list18], axis=1)\n",
    "temp_df19=pd.concat([lay2_skills19, lay2_c_list19], axis=1)\n",
    "temp_df20=pd.concat([lay2_skills20, lay2_c_list20], axis=1)\n",
    "temp_df21=pd.concat([lay2_skills21, lay2_c_list21], axis=1)\n",
    "temp_df22=pd.concat([lay2_skills22, lay2_c_list22], axis=1)\n",
    "temp_df23=pd.concat([lay2_skills23, lay2_c_list23], axis=1)\n",
    "temp_df24=pd.concat([lay2_skills24, lay2_c_list24], axis=1)\n",
    "temp_df25=pd.concat([lay2_skills25, lay2_c_list25], axis=1)\n",
    "temp_df26=pd.concat([lay2_skills26, lay2_c_list26], axis=1)\n",
    "temp_df27=pd.concat([lay2_skills27, lay2_c_list27], axis=1)\n",
    "temp_df28=pd.concat([lay2_skills28, lay2_c_list28], axis=1)\n",
    "temp_df29=pd.concat([lay2_skills29, lay2_c_list29], axis=1)\n",
    "temp_df30=pd.concat([lay2_skills30, lay2_c_list30], axis=1)\n",
    "temp_df31=pd.concat([lay2_skills31, lay2_c_list31], axis=1)\n",
    "temp_df32=pd.concat([lay2_skills32, lay2_c_list32], axis=1)\n",
    "temp_df33=pd.concat([lay2_skills33, lay2_c_list33], axis=1)\n",
    "temp_df34=pd.concat([lay2_skills34, lay2_c_list34], axis=1)\n",
    "temp_df35=pd.concat([lay2_skills35, lay2_c_list35], axis=1)\n",
    "temp_df36=pd.concat([lay2_skills36, lay2_c_list36], axis=1)\n",
    "temp_df37=pd.concat([lay2_skills37, lay2_c_list37], axis=1)\n",
    "\n",
    "\n",
    "dflist =[temp_df0, temp_df1, temp_df2, temp_df3, temp_df4, temp_df5, temp_df6, temp_df7, temp_df8, temp_df9, temp_df10,\n",
    "        temp_df11, temp_df12, temp_df13, temp_df14, temp_df15, temp_df16, temp_df17, temp_df18, temp_df19, temp_df20, temp_df21,\n",
    "        temp_df22, temp_df23, temp_df24, temp_df25, temp_df26, temp_df27, temp_df28, temp_df29, temp_df30, temp_df31, temp_df32,\n",
    "        temp_df33, temp_df34, temp_df35, temp_df36, temp_df37]\n",
    "\n",
    "layer2_df = pd.concat(dflist)\n",
    "layer2_df.rename(columns={0:\"skill_id\", 1:\"c_layer2\"}, inplace=True)"
   ]
  },
  {
   "cell_type": "code",
   "execution_count": 39,
   "metadata": {},
   "outputs": [
    {
     "name": "stdout",
     "output_type": "stream",
     "text": [
      "layer2_df has 4874 .\n"
     ]
    },
    {
     "data": {
      "text/html": [
       "<div>\n",
       "<style scoped>\n",
       "    .dataframe tbody tr th:only-of-type {\n",
       "        vertical-align: middle;\n",
       "    }\n",
       "\n",
       "    .dataframe tbody tr th {\n",
       "        vertical-align: top;\n",
       "    }\n",
       "\n",
       "    .dataframe thead th {\n",
       "        text-align: right;\n",
       "    }\n",
       "</style>\n",
       "<table border=\"1\" class=\"dataframe\">\n",
       "  <thead>\n",
       "    <tr style=\"text-align: right;\">\n",
       "      <th></th>\n",
       "      <th>skill_id</th>\n",
       "      <th>c_layer2</th>\n",
       "    </tr>\n",
       "  </thead>\n",
       "  <tbody>\n",
       "    <tr>\n",
       "      <th>0</th>\n",
       "      <td>7.0</td>\n",
       "      <td>0</td>\n",
       "    </tr>\n",
       "    <tr>\n",
       "      <th>1</th>\n",
       "      <td>14.0</td>\n",
       "      <td>1</td>\n",
       "    </tr>\n",
       "    <tr>\n",
       "      <th>2</th>\n",
       "      <td>22.0</td>\n",
       "      <td>1</td>\n",
       "    </tr>\n",
       "    <tr>\n",
       "      <th>3</th>\n",
       "      <td>117.0</td>\n",
       "      <td>2</td>\n",
       "    </tr>\n",
       "    <tr>\n",
       "      <th>4</th>\n",
       "      <td>180.0</td>\n",
       "      <td>3</td>\n",
       "    </tr>\n",
       "  </tbody>\n",
       "</table>\n",
       "</div>"
      ],
      "text/plain": [
       "   skill_id  c_layer2\n",
       "0       7.0         0\n",
       "1      14.0         1\n",
       "2      22.0         1\n",
       "3     117.0         2\n",
       "4     180.0         3"
      ]
     },
     "execution_count": 39,
     "metadata": {},
     "output_type": "execute_result"
    }
   ],
   "source": [
    "print(f'layer2_df has {layer2_df.skill_id.nunique()} .')\n",
    "layer2_df.head()"
   ]
  },
  {
   "cell_type": "code",
   "execution_count": 40,
   "metadata": {},
   "outputs": [
    {
     "name": "stdout",
     "output_type": "stream",
     "text": [
      "(4875, 3)\n"
     ]
    },
    {
     "data": {
      "text/html": [
       "<div>\n",
       "<style scoped>\n",
       "    .dataframe tbody tr th:only-of-type {\n",
       "        vertical-align: middle;\n",
       "    }\n",
       "\n",
       "    .dataframe tbody tr th {\n",
       "        vertical-align: top;\n",
       "    }\n",
       "\n",
       "    .dataframe thead th {\n",
       "        text-align: right;\n",
       "    }\n",
       "</style>\n",
       "<table border=\"1\" class=\"dataframe\">\n",
       "  <thead>\n",
       "    <tr style=\"text-align: right;\">\n",
       "      <th></th>\n",
       "      <th>skill_id</th>\n",
       "      <th>c_layer1</th>\n",
       "      <th>c_layer2</th>\n",
       "    </tr>\n",
       "  </thead>\n",
       "  <tbody>\n",
       "    <tr>\n",
       "      <th>0</th>\n",
       "      <td>7.0</td>\n",
       "      <td>0</td>\n",
       "      <td>0.0</td>\n",
       "    </tr>\n",
       "    <tr>\n",
       "      <th>1</th>\n",
       "      <td>14.0</td>\n",
       "      <td>0</td>\n",
       "      <td>1.0</td>\n",
       "    </tr>\n",
       "    <tr>\n",
       "      <th>2</th>\n",
       "      <td>21.0</td>\n",
       "      <td>1</td>\n",
       "      <td>0.0</td>\n",
       "    </tr>\n",
       "    <tr>\n",
       "      <th>3</th>\n",
       "      <td>22.0</td>\n",
       "      <td>0</td>\n",
       "      <td>1.0</td>\n",
       "    </tr>\n",
       "    <tr>\n",
       "      <th>4</th>\n",
       "      <td>34.0</td>\n",
       "      <td>2</td>\n",
       "      <td>0.0</td>\n",
       "    </tr>\n",
       "    <tr>\n",
       "      <th>5</th>\n",
       "      <td>65.0</td>\n",
       "      <td>2</td>\n",
       "      <td>0.0</td>\n",
       "    </tr>\n",
       "    <tr>\n",
       "      <th>6</th>\n",
       "      <td>78.0</td>\n",
       "      <td>3</td>\n",
       "      <td>0.0</td>\n",
       "    </tr>\n",
       "    <tr>\n",
       "      <th>7</th>\n",
       "      <td>96.0</td>\n",
       "      <td>3</td>\n",
       "      <td>1.0</td>\n",
       "    </tr>\n",
       "    <tr>\n",
       "      <th>8</th>\n",
       "      <td>113.0</td>\n",
       "      <td>4</td>\n",
       "      <td>0.0</td>\n",
       "    </tr>\n",
       "    <tr>\n",
       "      <th>9</th>\n",
       "      <td>117.0</td>\n",
       "      <td>0</td>\n",
       "      <td>2.0</td>\n",
       "    </tr>\n",
       "  </tbody>\n",
       "</table>\n",
       "</div>"
      ],
      "text/plain": [
       "   skill_id  c_layer1  c_layer2\n",
       "0       7.0         0       0.0\n",
       "1      14.0         0       1.0\n",
       "2      21.0         1       0.0\n",
       "3      22.0         0       1.0\n",
       "4      34.0         2       0.0\n",
       "5      65.0         2       0.0\n",
       "6      78.0         3       0.0\n",
       "7      96.0         3       1.0\n",
       "8     113.0         4       0.0\n",
       "9     117.0         0       2.0"
      ]
     },
     "execution_count": 40,
     "metadata": {},
     "output_type": "execute_result"
    }
   ],
   "source": [
    "# create taxonomy data frame\n",
    "taxonomy_df = pd.merge(layer1_df, layer2_df, how='left', on='skill_id')\n",
    "print(taxonomy_df.shape)\n",
    "taxonomy_df.head(10)"
   ]
  },
  {
   "cell_type": "code",
   "execution_count": 41,
   "metadata": {},
   "outputs": [],
   "source": [
    "#Layer 3 of Skills Taxonomy\n",
    "# create layer 3, nested under all clusters from layer 2, which are in turn nested under cluster 0 from layer 1\n",
    "leid_sum_coms_lay3_lay2_lay1c0 = []\n",
    "leid_sum_mod_lay3_lay2_lay1c0 = []\n",
    "\n",
    "G3_G2_Gc0 = leid_sum_coms_lay2_0.subgraphs()\n",
    "\n",
    "for i in range(len(G3_G2_Gc0)):\n",
    "    coms = G3_G2_Gc0[i].community_leiden(objective_function=\"modularity\", weights='sum_weight',\n",
    "                                                n_iterations=1000)\n",
    "    leid_sum_coms_lay3_lay2_lay1c0.append(coms)\n",
    "    \n",
    "    mod = G3_G2_Gc0[i].modularity(coms, weights='sum_weight')\n",
    "    leid_sum_mod_lay3_lay2_lay1c0.append(mod)"
   ]
  },
  {
   "cell_type": "code",
   "execution_count": 42,
   "metadata": {},
   "outputs": [
    {
     "name": "stdout",
     "output_type": "stream",
     "text": [
      "4 clusters were detected nested under layer1-cluster0 --> layer2-cluster0.    \n",
      "These nested clusters have the following sizes: [7, 18, 18, 17].    \n",
      "Modularity for this partition: 0.16094196256555887.\n",
      "\n",
      "4 clusters were detected nested under layer1-cluster0 --> layer2-cluster1.    \n",
      "These nested clusters have the following sizes: [43, 25, 19, 27].    \n",
      "Modularity for this partition: 0.2190183795279071.\n",
      "\n",
      "4 clusters were detected nested under layer1-cluster0 --> layer2-cluster2.    \n",
      "These nested clusters have the following sizes: [45, 62, 54, 73].    \n",
      "Modularity for this partition: 0.1861701746435287.\n",
      "\n",
      "5 clusters were detected nested under layer1-cluster0 --> layer2-cluster3.    \n",
      "These nested clusters have the following sizes: [22, 33, 30, 15, 13].    \n",
      "Modularity for this partition: 0.27468785465787054.\n",
      "\n",
      "3 clusters were detected nested under layer1-cluster0 --> layer2-cluster4.    \n",
      "These nested clusters have the following sizes: [30, 43, 46].    \n",
      "Modularity for this partition: 0.23691423450564464.\n",
      "\n"
     ]
    }
   ],
   "source": [
    "# check nested cluster structure and modularity\n",
    "for i in range(len(G3_G2_Gc0)):\n",
    "    print(f'{len(leid_sum_coms_lay3_lay2_lay1c0[i])} clusters were detected nested under layer1-cluster0 --> layer2-cluster{i}.\\\n",
    "    \\nThese nested clusters have the following sizes: {leid_sum_coms_lay3_lay2_lay1c0[i].sizes()}.\\\n",
    "    \\nModularity for this partition: {leid_sum_mod_lay3_lay2_lay1c0[i]}.\\n')"
   ]
  },
  {
   "cell_type": "code",
   "execution_count": 43,
   "metadata": {},
   "outputs": [
    {
     "name": "stdout",
     "output_type": "stream",
     "text": [
      "length of datafile should be 640 and is 640\n"
     ]
    }
   ],
   "source": [
    "# get cluster allocation of skills for layer 3 of taxonomy nested under cluster 0 from layer 1\n",
    "layer3_lay1c0_df = pd.DataFrame(columns=[\"skill_id\", \"c_layer3\"])\n",
    "for i in range(len(G3_G2_Gc0)):\n",
    "    lay3_c_list = pd.Series(leid_sum_coms_lay3_lay2_lay1c0[i].membership)\n",
    "    lay3_skills = pd.Series(G3_G2_Gc0[i].vs[\"name\"])\n",
    "    \n",
    "    temp_df=pd.concat([lay3_skills, lay3_c_list], axis=1)\n",
    "    temp_df.rename(columns={0:\"skill_id\", 1:\"c_layer3\"}, inplace=True)\n",
    "    \n",
    "    layer3_lay1c0_df = layer3_lay1c0_df.append(temp_df)\n",
    "    \n",
    "print(f'length of datafile should be {leid_sum_coms_lay1.sizes()[0]} and is {len(layer3_lay1c0_df)}')"
   ]
  },
  {
   "cell_type": "code",
   "execution_count": 44,
   "metadata": {},
   "outputs": [],
   "source": [
    "# create layer 3, nested under all clusters from layer 2, which are in turn nested under cluster 1 from layer 1\n",
    "leid_sum_coms_lay3_lay2_lay1c1 = []\n",
    "leid_sum_mod_lay3_lay2_lay1c1 = []\n",
    "\n",
    "G3_G2_Gc1 = leid_sum_coms_lay2_1.subgraphs()\n",
    "\n",
    "for i in range(len(G3_G2_Gc1)):\n",
    "    coms = G3_G2_Gc1[i].community_leiden(objective_function=\"modularity\", weights='sum_weight',\n",
    "                                                n_iterations=1000)\n",
    "    leid_sum_coms_lay3_lay2_lay1c1.append(coms)\n",
    "    \n",
    "    mod = G3_G2_Gc1[i].modularity(coms, weights='sum_weight')\n",
    "    leid_sum_mod_lay3_lay2_lay1c1.append(mod)"
   ]
  },
  {
   "cell_type": "code",
   "execution_count": 45,
   "metadata": {},
   "outputs": [
    {
     "name": "stdout",
     "output_type": "stream",
     "text": [
      "4 clusters were detected nested under layer1-cluster1 --> layer2-cluster0.    \n",
      "These nested clusters have the following sizes: [13, 15, 3, 4].    \n",
      "Modularity for this partition: 0.3867589833000084.\n",
      "\n",
      "5 clusters were detected nested under layer1-cluster1 --> layer2-cluster1.    \n",
      "These nested clusters have the following sizes: [2, 7, 15, 12, 2].    \n",
      "Modularity for this partition: 0.0856243518612565.\n",
      "\n",
      "3 clusters were detected nested under layer1-cluster1 --> layer2-cluster2.    \n",
      "These nested clusters have the following sizes: [18, 17, 7].    \n",
      "Modularity for this partition: 0.16728712453441733.\n",
      "\n",
      "2 clusters were detected nested under layer1-cluster1 --> layer2-cluster3.    \n",
      "These nested clusters have the following sizes: [15, 11].    \n",
      "Modularity for this partition: 0.04611368784063863.\n",
      "\n"
     ]
    }
   ],
   "source": [
    "# check nested cluster structure and modularity\n",
    "for i in range(len(G3_G2_Gc1)):\n",
    "    print(f'{len(leid_sum_coms_lay3_lay2_lay1c1[i])} clusters were detected nested under layer1-cluster1 --> layer2-cluster{i}.\\\n",
    "    \\nThese nested clusters have the following sizes: {leid_sum_coms_lay3_lay2_lay1c1[i].sizes()}.\\\n",
    "    \\nModularity for this partition: {leid_sum_mod_lay3_lay2_lay1c1[i]}.\\n')"
   ]
  },
  {
   "cell_type": "code",
   "execution_count": 46,
   "metadata": {},
   "outputs": [
    {
     "name": "stdout",
     "output_type": "stream",
     "text": [
      "length of datafile should be 141 and is 141\n"
     ]
    }
   ],
   "source": [
    "# get cluster allocation of skills for layer 3 of taxonomy nested under cluster 1 from layer 1\n",
    "layer3_lay1c1_df = pd.DataFrame(columns=[\"skill_id\", \"c_layer3\"])\n",
    "for i in range(len(G3_G2_Gc1)):\n",
    "    lay3_c_list = pd.Series(leid_sum_coms_lay3_lay2_lay1c1[i].membership)\n",
    "    lay3_skills = pd.Series(G3_G2_Gc1[i].vs[\"name\"])\n",
    "    \n",
    "    temp_df=pd.concat([lay3_skills, lay3_c_list], axis=1)\n",
    "    temp_df.rename(columns={0:\"skill_id\", 1:\"c_layer3\"}, inplace=True)\n",
    "    \n",
    "    layer3_lay1c1_df = layer3_lay1c1_df.append(temp_df)\n",
    "    \n",
    "print(f'length of datafile should be {leid_sum_coms_lay1.sizes()[1]} and is {len(layer3_lay1c1_df)}')"
   ]
  },
  {
   "cell_type": "code",
   "execution_count": 47,
   "metadata": {},
   "outputs": [],
   "source": [
    "# create layer 3, nested under all clusters from layer 2, which are in turn nested under cluster 2 from layer 1\n",
    "leid_sum_coms_lay3_lay2_lay1c2 = []\n",
    "leid_sum_mod_lay3_lay2_lay1c2 = []\n",
    "\n",
    "G3_G2_Gc2 = leid_sum_coms_lay2_2.subgraphs()\n",
    "\n",
    "for i in range(len(G3_G2_Gc2)):\n",
    "    coms = G3_G2_Gc2[i].community_leiden(objective_function=\"modularity\", weights='sum_weight',\n",
    "                                                n_iterations=1000)\n",
    "    leid_sum_coms_lay3_lay2_lay1c2.append(coms)\n",
    "    \n",
    "    mod = G3_G2_Gc2[i].modularity(coms, weights='sum_weight')\n",
    "    leid_sum_mod_lay3_lay2_lay1c2.append(mod)"
   ]
  },
  {
   "cell_type": "code",
   "execution_count": 48,
   "metadata": {},
   "outputs": [
    {
     "name": "stdout",
     "output_type": "stream",
     "text": [
      "4 clusters were detected nested under layer1-cluster2 --> layer2-cluster0.    \n",
      "These nested clusters have the following sizes: [77, 35, 47, 16].    \n",
      "Modularity for this partition: 0.3458007385175727.\n",
      "\n",
      "3 clusters were detected nested under layer1-cluster2 --> layer2-cluster1.    \n",
      "These nested clusters have the following sizes: [94, 49, 4].    \n",
      "Modularity for this partition: 0.13120591896715578.\n",
      "\n",
      "5 clusters were detected nested under layer1-cluster2 --> layer2-cluster2.    \n",
      "These nested clusters have the following sizes: [38, 52, 52, 40, 10].    \n",
      "Modularity for this partition: 0.31555677814241284.\n",
      "\n",
      "3 clusters were detected nested under layer1-cluster2 --> layer2-cluster3.    \n",
      "These nested clusters have the following sizes: [49, 43, 46].    \n",
      "Modularity for this partition: 0.16026884095252858.\n",
      "\n",
      "4 clusters were detected nested under layer1-cluster2 --> layer2-cluster4.    \n",
      "These nested clusters have the following sizes: [32, 15, 32, 4].    \n",
      "Modularity for this partition: 0.15533776458960874.\n",
      "\n"
     ]
    }
   ],
   "source": [
    "# check nested cluster structure and modularity\n",
    "for i in range(len(G3_G2_Gc2)):\n",
    "    print(f'{len(leid_sum_coms_lay3_lay2_lay1c2[i])} clusters were detected nested under layer1-cluster2 --> layer2-cluster{i}.\\\n",
    "    \\nThese nested clusters have the following sizes: {leid_sum_coms_lay3_lay2_lay1c2[i].sizes()}.\\\n",
    "    \\nModularity for this partition: {leid_sum_mod_lay3_lay2_lay1c2[i]}.\\n')"
   ]
  },
  {
   "cell_type": "code",
   "execution_count": 49,
   "metadata": {},
   "outputs": [
    {
     "name": "stdout",
     "output_type": "stream",
     "text": [
      "length of datafile should be 735 and is 735\n"
     ]
    }
   ],
   "source": [
    "# get cluster allocation of skills for layer 3 of taxonomy nested under cluster 2 from layer 1\n",
    "layer3_lay1c2_df = pd.DataFrame(columns=[\"skill_id\", \"c_layer3\"])\n",
    "for i in range(len(G3_G2_Gc2)):\n",
    "    lay3_c_list = pd.Series(leid_sum_coms_lay3_lay2_lay1c2[i].membership)\n",
    "    lay3_skills = pd.Series(G3_G2_Gc2[i].vs[\"name\"])\n",
    "    \n",
    "    temp_df=pd.concat([lay3_skills, lay3_c_list], axis=1)\n",
    "    temp_df.rename(columns={0:\"skill_id\", 1:\"c_layer3\"}, inplace=True)\n",
    "    \n",
    "    layer3_lay1c2_df = layer3_lay1c2_df.append(temp_df)\n",
    "    \n",
    "print(f'length of datafile should be {leid_sum_coms_lay1.sizes()[2]} and is {len(layer3_lay1c2_df)}')"
   ]
  },
  {
   "cell_type": "code",
   "execution_count": 50,
   "metadata": {},
   "outputs": [],
   "source": [
    "# create layer 3, nested under all clusters from layer 2, which are in turn nested under cluster 3 from layer 1\n",
    "leid_sum_coms_lay3_lay2_lay1c3 = []\n",
    "leid_sum_mod_lay3_lay2_lay1c3 = []\n",
    "\n",
    "G3_G2_Gc3 = leid_sum_coms_lay2_3.subgraphs()\n",
    "\n",
    "for i in range(len(G3_G2_Gc3)):\n",
    "    coms = G3_G2_Gc3[i].community_leiden(objective_function=\"modularity\", weights='sum_weight',\n",
    "                                                n_iterations=1000)\n",
    "    leid_sum_coms_lay3_lay2_lay1c3.append(coms)\n",
    "    \n",
    "    mod = G3_G2_Gc3[i].modularity(coms, weights='sum_weight')\n",
    "    leid_sum_mod_lay3_lay2_lay1c3.append(mod)"
   ]
  },
  {
   "cell_type": "code",
   "execution_count": 51,
   "metadata": {},
   "outputs": [
    {
     "name": "stdout",
     "output_type": "stream",
     "text": [
      "4 clusters were detected nested under layer1-cluster3 --> layer2-cluster0.    \n",
      "These nested clusters have the following sizes: [34, 37, 39, 12].    \n",
      "Modularity for this partition: 0.12316519013586252.\n",
      "\n",
      "5 clusters were detected nested under layer1-cluster3 --> layer2-cluster1.    \n",
      "These nested clusters have the following sizes: [97, 56, 56, 46, 54].    \n",
      "Modularity for this partition: 0.2576448680489381.\n",
      "\n",
      "2 clusters were detected nested under layer1-cluster3 --> layer2-cluster2.    \n",
      "These nested clusters have the following sizes: [51, 39].    \n",
      "Modularity for this partition: 0.021936564787027026.\n",
      "\n",
      "3 clusters were detected nested under layer1-cluster3 --> layer2-cluster3.    \n",
      "These nested clusters have the following sizes: [42, 27, 50].    \n",
      "Modularity for this partition: 0.26794044221969304.\n",
      "\n"
     ]
    }
   ],
   "source": [
    "# check nested cluster structure and modularity\n",
    "for i in range(len(G3_G2_Gc3)):\n",
    "    print(f'{len(leid_sum_coms_lay3_lay2_lay1c3[i])} clusters were detected nested under layer1-cluster3 --> layer2-cluster{i}.\\\n",
    "    \\nThese nested clusters have the following sizes: {leid_sum_coms_lay3_lay2_lay1c3[i].sizes()}.\\\n",
    "    \\nModularity for this partition: {leid_sum_mod_lay3_lay2_lay1c3[i]}.\\n')"
   ]
  },
  {
   "cell_type": "code",
   "execution_count": 52,
   "metadata": {},
   "outputs": [
    {
     "name": "stdout",
     "output_type": "stream",
     "text": [
      "length of datafile should be 640 and is 640\n"
     ]
    }
   ],
   "source": [
    "# get cluster allocation of skills for layer 3 of taxonomy nested under cluster 3 from layer 1\n",
    "layer3_lay1c3_df = pd.DataFrame(columns=[\"skill_id\", \"c_layer3\"])\n",
    "for i in range(len(G3_G2_Gc3)):\n",
    "    lay3_c_list = pd.Series(leid_sum_coms_lay3_lay2_lay1c3[i].membership)\n",
    "    lay3_skills = pd.Series(G3_G2_Gc3[i].vs[\"name\"])\n",
    "    \n",
    "    temp_df=pd.concat([lay3_skills, lay3_c_list], axis=1)\n",
    "    temp_df.rename(columns={0:\"skill_id\", 1:\"c_layer3\"}, inplace=True)\n",
    "    \n",
    "    layer3_lay1c3_df = layer3_lay1c3_df.append(temp_df)\n",
    "    \n",
    "print(f'length of datafile should be {leid_sum_coms_lay1.sizes()[3]} and is {len(layer3_lay1c3_df)}')"
   ]
  },
  {
   "cell_type": "code",
   "execution_count": 53,
   "metadata": {},
   "outputs": [],
   "source": [
    "# create layer 3, nested under all clusters from layer 2, which are in turn nested under cluster 4 from layer 1\n",
    "leid_sum_coms_lay3_lay2_lay1c4 = []\n",
    "leid_sum_mod_lay3_lay2_lay1c4 = []\n",
    "\n",
    "G3_G2_Gc4 = leid_sum_coms_lay2_4.subgraphs()\n",
    "\n",
    "for i in range(len(G3_G2_Gc4)):\n",
    "    coms = G3_G2_Gc4[i].community_leiden(objective_function=\"modularity\", weights='sum_weight',\n",
    "                                                n_iterations=1000)\n",
    "    leid_sum_coms_lay3_lay2_lay1c4.append(coms)\n",
    "    \n",
    "    mod = G3_G2_Gc4[i].modularity(coms, weights='sum_weight')\n",
    "    leid_sum_mod_lay3_lay2_lay1c4.append(mod)"
   ]
  },
  {
   "cell_type": "code",
   "execution_count": 54,
   "metadata": {},
   "outputs": [
    {
     "name": "stdout",
     "output_type": "stream",
     "text": [
      "5 clusters were detected nested under layer1-cluster4 --> layer2-cluster0.    \n",
      "These nested clusters have the following sizes: [53, 36, 50, 24, 11].    \n",
      "Modularity for this partition: 0.4556482836946454.\n",
      "\n",
      "6 clusters were detected nested under layer1-cluster4 --> layer2-cluster1.    \n",
      "These nested clusters have the following sizes: [191, 121, 67, 131, 23, 17].    \n",
      "Modularity for this partition: 0.448687499467482.\n",
      "\n",
      "6 clusters were detected nested under layer1-cluster4 --> layer2-cluster2.    \n",
      "These nested clusters have the following sizes: [39, 29, 22, 86, 45, 13].    \n",
      "Modularity for this partition: 0.44323605314469855.\n",
      "\n",
      "5 clusters were detected nested under layer1-cluster4 --> layer2-cluster3.    \n",
      "These nested clusters have the following sizes: [68, 33, 117, 30, 44].    \n",
      "Modularity for this partition: 0.37328295494876357.\n",
      "\n",
      "7 clusters were detected nested under layer1-cluster4 --> layer2-cluster4.    \n",
      "These nested clusters have the following sizes: [42, 44, 52, 29, 30, 11, 13].    \n",
      "Modularity for this partition: 0.3677547829822535.\n",
      "\n",
      "6 clusters were detected nested under layer1-cluster4 --> layer2-cluster5.    \n",
      "These nested clusters have the following sizes: [55, 27, 31, 22, 26, 14].    \n",
      "Modularity for this partition: 0.34728203939038854.\n",
      "\n",
      "6 clusters were detected nested under layer1-cluster4 --> layer2-cluster6.    \n",
      "These nested clusters have the following sizes: [29, 30, 39, 29, 27, 17].    \n",
      "Modularity for this partition: 0.5253154337951806.\n",
      "\n",
      "3 clusters were detected nested under layer1-cluster4 --> layer2-cluster7.    \n",
      "These nested clusters have the following sizes: [11, 22, 13].    \n",
      "Modularity for this partition: 0.47723323127375117.\n",
      "\n",
      "1 clusters were detected nested under layer1-cluster4 --> layer2-cluster8.    \n",
      "These nested clusters have the following sizes: [3].    \n",
      "Modularity for this partition: 0.0.\n",
      "\n",
      "1 clusters were detected nested under layer1-cluster4 --> layer2-cluster9.    \n",
      "These nested clusters have the following sizes: [3].    \n",
      "Modularity for this partition: 1.1102230246251565e-16.\n",
      "\n"
     ]
    }
   ],
   "source": [
    "# check nested cluster structure and modularity\n",
    "for i in range(len(G3_G2_Gc4)):\n",
    "    print(f'{len(leid_sum_coms_lay3_lay2_lay1c4[i])} clusters were detected nested under layer1-cluster4 --> layer2-cluster{i}.\\\n",
    "    \\nThese nested clusters have the following sizes: {leid_sum_coms_lay3_lay2_lay1c4[i].sizes()}.\\\n",
    "    \\nModularity for this partition: {leid_sum_mod_lay3_lay2_lay1c4[i]}.\\n')"
   ]
  },
  {
   "cell_type": "code",
   "execution_count": 55,
   "metadata": {},
   "outputs": [
    {
     "name": "stdout",
     "output_type": "stream",
     "text": [
      "length of datafile should be 1869 and is 1869\n"
     ]
    }
   ],
   "source": [
    "# get cluster allocation of skills for layer 3 of taxonomy nested under cluster 4 from layer 1\n",
    "layer3_lay1c4_df = pd.DataFrame(columns=[\"skill_id\", \"c_layer3\"])\n",
    "for i in range(len(G3_G2_Gc4)):\n",
    "    lay3_c_list = pd.Series(leid_sum_coms_lay3_lay2_lay1c4[i].membership)\n",
    "    lay3_skills = pd.Series(G3_G2_Gc4[i].vs[\"name\"])\n",
    "    \n",
    "    temp_df=pd.concat([lay3_skills, lay3_c_list], axis=1)\n",
    "    temp_df.rename(columns={0:\"skill_id\", 1:\"c_layer3\"}, inplace=True)\n",
    "    \n",
    "    layer3_lay1c4_df = layer3_lay1c4_df.append(temp_df)\n",
    "    \n",
    "print(f'length of datafile should be {leid_sum_coms_lay1.sizes()[4]} and is {len(layer3_lay1c4_df)}')"
   ]
  },
  {
   "cell_type": "code",
   "execution_count": 56,
   "metadata": {},
   "outputs": [],
   "source": [
    "# create layer 3, nested under all clusters from layer 2, which are in turn nested under cluster 5 from layer 1\n",
    "leid_sum_coms_lay3_lay2_lay1c5 = []\n",
    "leid_sum_mod_lay3_lay2_lay1c5 = []\n",
    "\n",
    "G3_G2_Gc5 = leid_sum_coms_lay2_5.subgraphs()\n",
    "\n",
    "for i in range(len(G3_G2_Gc5)):\n",
    "    coms = G3_G2_Gc5[i].community_leiden(objective_function=\"modularity\", weights='sum_weight',\n",
    "                                                n_iterations=1000)\n",
    "    leid_sum_coms_lay3_lay2_lay1c5.append(coms)\n",
    "    \n",
    "    mod = G3_G2_Gc5[i].modularity(coms, weights='sum_weight')\n",
    "    leid_sum_mod_lay3_lay2_lay1c5.append(mod)"
   ]
  },
  {
   "cell_type": "code",
   "execution_count": 57,
   "metadata": {},
   "outputs": [
    {
     "name": "stdout",
     "output_type": "stream",
     "text": [
      "5 clusters were detected nested under layer1-cluster5 --> layer2-cluster0.    \n",
      "These nested clusters have the following sizes: [38, 74, 54, 58, 9].    \n",
      "Modularity for this partition: 0.3686526412936322.\n",
      "\n",
      "5 clusters were detected nested under layer1-cluster5 --> layer2-cluster1.    \n",
      "These nested clusters have the following sizes: [120, 65, 75, 10, 2].    \n",
      "Modularity for this partition: 0.23820203328094997.\n",
      "\n",
      "3 clusters were detected nested under layer1-cluster5 --> layer2-cluster2.    \n",
      "These nested clusters have the following sizes: [28, 22, 3].    \n",
      "Modularity for this partition: 0.09345678739980938.\n",
      "\n",
      "4 clusters were detected nested under layer1-cluster5 --> layer2-cluster3.    \n",
      "These nested clusters have the following sizes: [39, 21, 3, 2].    \n",
      "Modularity for this partition: 0.23361697366283768.\n",
      "\n",
      "4 clusters were detected nested under layer1-cluster5 --> layer2-cluster4.    \n",
      "These nested clusters have the following sizes: [22, 37, 18, 22].    \n",
      "Modularity for this partition: 0.3668769738062499.\n",
      "\n",
      "4 clusters were detected nested under layer1-cluster5 --> layer2-cluster5.    \n",
      "These nested clusters have the following sizes: [32, 10, 15, 9].    \n",
      "Modularity for this partition: 0.18842417437448034.\n",
      "\n"
     ]
    }
   ],
   "source": [
    "# check nested cluster structure and modularity\n",
    "for i in range(len(G3_G2_Gc5)):\n",
    "    print(f'{len(leid_sum_coms_lay3_lay2_lay1c5[i])} clusters were detected nested under layer1-cluster5 --> layer2-cluster{i}.\\\n",
    "    \\nThese nested clusters have the following sizes: {leid_sum_coms_lay3_lay2_lay1c5[i].sizes()}.\\\n",
    "    \\nModularity for this partition: {leid_sum_mod_lay3_lay2_lay1c5[i]}.\\n')"
   ]
  },
  {
   "cell_type": "code",
   "execution_count": 58,
   "metadata": {},
   "outputs": [
    {
     "name": "stdout",
     "output_type": "stream",
     "text": [
      "length of datafile should be 788 and is 788\n"
     ]
    }
   ],
   "source": [
    "# get cluster allocation of skills for layer 3 of taxonomy nested under cluster 5 from layer 1\n",
    "layer3_lay1c5_df = pd.DataFrame(columns=[\"skill_id\", \"c_layer3\"])\n",
    "for i in range(len(G3_G2_Gc5)):\n",
    "    lay3_c_list = pd.Series(leid_sum_coms_lay3_lay2_lay1c5[i].membership)\n",
    "    lay3_skills = pd.Series(G3_G2_Gc5[i].vs[\"name\"])\n",
    "    \n",
    "    temp_df=pd.concat([lay3_skills, lay3_c_list], axis=1)\n",
    "    temp_df.rename(columns={0:\"skill_id\", 1:\"c_layer3\"}, inplace=True)\n",
    "    \n",
    "    layer3_lay1c5_df = layer3_lay1c5_df.append(temp_df)\n",
    "    \n",
    "print(f'length of datafile should be {leid_sum_coms_lay1.sizes()[5]} and is {len(layer3_lay1c5_df)}')"
   ]
  },
  {
   "cell_type": "code",
   "execution_count": 59,
   "metadata": {},
   "outputs": [],
   "source": [
    "# create layer 3, nested under all clusters from layer 2, which are in turn nested under cluster 6 from layer 1\n",
    "leid_sum_coms_lay3_lay2_lay1c6 = []\n",
    "leid_sum_mod_lay3_lay2_lay1c6 = []\n",
    "\n",
    "G3_G2_Gc6 = leid_sum_coms_lay2_6.subgraphs()\n",
    "\n",
    "for i in range(len(G3_G2_Gc6)):\n",
    "    coms = G3_G2_Gc6[i].community_leiden(objective_function=\"modularity\", weights='sum_weight',\n",
    "                                                n_iterations=-1)\n",
    "    leid_sum_coms_lay3_lay2_lay1c6.append(coms)\n",
    "    \n",
    "    mod = G3_G2_Gc6[i].modularity(coms, weights='sum_weight')\n",
    "    leid_sum_mod_lay3_lay2_lay1c6.append(mod)"
   ]
  },
  {
   "cell_type": "code",
   "execution_count": 60,
   "metadata": {},
   "outputs": [
    {
     "name": "stdout",
     "output_type": "stream",
     "text": [
      "2 clusters were detected nested under layer1-cluster6 --> layer2-cluster0.    \n",
      "These nested clusters have the following sizes: [8, 2].    \n",
      "Modularity for this partition: 0.007869157867633265.\n",
      "\n",
      "2 clusters were detected nested under layer1-cluster6 --> layer2-cluster1.    \n",
      "These nested clusters have the following sizes: [9, 2].    \n",
      "Modularity for this partition: 0.02814487537219336.\n",
      "\n",
      "1 clusters were detected nested under layer1-cluster6 --> layer2-cluster2.    \n",
      "These nested clusters have the following sizes: [7].    \n",
      "Modularity for this partition: 0.0.\n",
      "\n",
      "1 clusters were detected nested under layer1-cluster6 --> layer2-cluster3.    \n",
      "These nested clusters have the following sizes: [2].    \n",
      "Modularity for this partition: 0.0.\n",
      "\n"
     ]
    }
   ],
   "source": [
    "# check nested cluster structure and modularity\n",
    "for i in range(len(G3_G2_Gc6)):\n",
    "    print(f'{len(leid_sum_coms_lay3_lay2_lay1c6[i])} clusters were detected nested under layer1-cluster6 --> layer2-cluster{i}.\\\n",
    "    \\nThese nested clusters have the following sizes: {leid_sum_coms_lay3_lay2_lay1c6[i].sizes()}.\\\n",
    "    \\nModularity for this partition: {leid_sum_mod_lay3_lay2_lay1c6[i]}.\\n')"
   ]
  },
  {
   "cell_type": "code",
   "execution_count": 61,
   "metadata": {},
   "outputs": [
    {
     "name": "stdout",
     "output_type": "stream",
     "text": [
      "length of datafile should be 30 and is 30\n"
     ]
    }
   ],
   "source": [
    "# get cluster allocation of skills for layer 3 of taxonomy nested under cluster 6 from layer 1\n",
    "layer3_lay1c6_df = pd.DataFrame(columns=[\"skill_id\", \"c_layer3\"])\n",
    "for i in range(len(G3_G2_Gc6)):\n",
    "    lay3_c_list = pd.Series(leid_sum_coms_lay3_lay2_lay1c6[i].membership)\n",
    "    lay3_skills = pd.Series(G3_G2_Gc6[i].vs[\"name\"])\n",
    "    \n",
    "    temp_df=pd.concat([lay3_skills, lay3_c_list], axis=1)\n",
    "    temp_df.rename(columns={0:\"skill_id\", 1:\"c_layer3\"}, inplace=True)\n",
    "    \n",
    "    layer3_lay1c6_df = layer3_lay1c6_df.append(temp_df)\n",
    "    \n",
    "print(f'length of datafile should be {leid_sum_coms_lay1.sizes()[6]} and is {len(layer3_lay1c6_df)}')"
   ]
  },
  {
   "cell_type": "code",
   "execution_count": 62,
   "metadata": {},
   "outputs": [],
   "source": [
    "# create layer 3, nested under all clusters from layer 2, which are in turn nested under cluster 7 from layer 1\n",
    "leid_sum_coms_lay3_lay2_lay1c7 = []\n",
    "leid_sum_mod_lay3_lay2_lay1c7 = []\n",
    "\n",
    "G3_G2_Gc7 = leid_sum_coms_lay2_7.subgraphs()\n",
    "\n",
    "for i in range(len(G3_G2_Gc7)):\n",
    "    coms = G3_G2_Gc7[i].community_leiden(objective_function=\"modularity\", weights='sum_weight',\n",
    "                                                n_iterations=1000)\n",
    "    leid_sum_coms_lay3_lay2_lay1c7.append(coms)\n",
    "    \n",
    "    mod = G3_G2_Gc7[i].modularity(coms, weights='sum_weight')\n",
    "    leid_sum_mod_lay3_lay2_lay1c7.append(mod)"
   ]
  },
  {
   "cell_type": "code",
   "execution_count": 63,
   "metadata": {},
   "outputs": [
    {
     "name": "stdout",
     "output_type": "stream",
     "text": [
      "1 clusters were detected nested under layer1-cluster7 --> layer2-cluster0.    \n",
      "These nested clusters have the following sizes: [1].    \n",
      "Modularity for this partition: nan.\n",
      "\n"
     ]
    }
   ],
   "source": [
    "# check nested cluster structure and modularity\n",
    "for i in range(len(G3_G2_Gc7)):\n",
    "    print(f'{len(leid_sum_coms_lay3_lay2_lay1c7[i])} clusters were detected nested under layer1-cluster7 --> layer2-cluster{i}.\\\n",
    "    \\nThese nested clusters have the following sizes: {leid_sum_coms_lay3_lay2_lay1c7[i].sizes()}.\\\n",
    "    \\nModularity for this partition: {leid_sum_mod_lay3_lay2_lay1c7[i]}.\\n')"
   ]
  },
  {
   "cell_type": "code",
   "execution_count": 64,
   "metadata": {},
   "outputs": [
    {
     "name": "stdout",
     "output_type": "stream",
     "text": [
      "length of datafile should be 1 and is 1\n"
     ]
    }
   ],
   "source": [
    "# get cluster allocation of skills for layer 3 of taxonomy nested under cluster 7 from layer 1\n",
    "layer3_lay1c7_df = pd.DataFrame(columns=[\"skill_id\", \"c_layer3\"])\n",
    "for i in range(len(G3_G2_Gc7)):\n",
    "    lay3_c_list = pd.Series(leid_sum_coms_lay3_lay2_lay1c7[i].membership)\n",
    "    lay3_skills = pd.Series(G3_G2_Gc7[i].vs[\"name\"])\n",
    "    \n",
    "    temp_df=pd.concat([lay3_skills, lay3_c_list], axis=1)\n",
    "    temp_df.rename(columns={0:\"skill_id\", 1:\"c_layer3\"}, inplace=True)\n",
    "    \n",
    "    layer3_lay1c7_df = layer3_lay1c7_df.append(temp_df)\n",
    "    \n",
    "print(f'length of datafile should be {leid_sum_coms_lay1.sizes()[7]} and is {len(layer3_lay1c7_df)}')"
   ]
  },
  {
   "cell_type": "code",
   "execution_count": 65,
   "metadata": {},
   "outputs": [],
   "source": [
    "# create layer 3, nested under all clusters from layer 2, which are in turn nested under cluster 8 from layer 1\n",
    "leid_sum_coms_lay3_lay2_lay1c8 = []\n",
    "leid_sum_mod_lay3_lay2_lay1c8 = []\n",
    "\n",
    "G3_G2_Gc8 = leid_sum_coms_lay2_8.subgraphs()\n",
    "\n",
    "for i in range(len(G3_G2_Gc8)):\n",
    "    coms = G3_G2_Gc8[i].community_leiden(objective_function=\"modularity\", weights='sum_weight',\n",
    "                                                n_iterations=-1)\n",
    "    leid_sum_coms_lay3_lay2_lay1c8.append(coms)\n",
    "    \n",
    "    mod = G3_G2_Gc8[i].modularity(coms, weights='sum_weight')\n",
    "    leid_sum_mod_lay3_lay2_lay1c8.append(mod)"
   ]
  },
  {
   "cell_type": "code",
   "execution_count": 66,
   "metadata": {},
   "outputs": [
    {
     "name": "stdout",
     "output_type": "stream",
     "text": [
      "1 clusters were detected nested under layer1-cluster8 --> layer2-cluster0.    \n",
      "These nested clusters have the following sizes: [1].    \n",
      "Modularity for this partition: nan.\n",
      "\n"
     ]
    }
   ],
   "source": [
    "# check nested cluster structure and modularity\n",
    "for i in range(len(G3_G2_Gc8)):\n",
    "    print(f'{len(leid_sum_coms_lay3_lay2_lay1c8[i])} clusters were detected nested under layer1-cluster8 --> layer2-cluster{i}.\\\n",
    "    \\nThese nested clusters have the following sizes: {leid_sum_coms_lay3_lay2_lay1c8[i].sizes()}.\\\n",
    "    \\nModularity for this partition: {leid_sum_mod_lay3_lay2_lay1c8[i]}.\\n')"
   ]
  },
  {
   "cell_type": "code",
   "execution_count": 67,
   "metadata": {},
   "outputs": [
    {
     "name": "stdout",
     "output_type": "stream",
     "text": [
      "length of datafile should be 1 and is 1\n"
     ]
    }
   ],
   "source": [
    "# get cluster allocation of skills for layer 3 of taxonomy nested under cluster 8 from layer 1\n",
    "layer3_lay1c8_df = pd.DataFrame(columns=[\"skill_id\", \"c_layer3\"])\n",
    "for i in range(len(G3_G2_Gc8)):\n",
    "    lay3_c_list = pd.Series(leid_sum_coms_lay3_lay2_lay1c8[i].membership)\n",
    "    lay3_skills = pd.Series(G3_G2_Gc8[i].vs[\"name\"])\n",
    "    \n",
    "    temp_df=pd.concat([lay3_skills, lay3_c_list], axis=1)\n",
    "    temp_df.rename(columns={0:\"skill_id\", 1:\"c_layer3\"}, inplace=True)\n",
    "    \n",
    "    layer3_lay1c8_df = layer3_lay1c8_df.append(temp_df)\n",
    "    \n",
    "print(f'length of datafile should be {leid_sum_coms_lay1.sizes()[8]} and is {len(layer3_lay1c8_df)}')"
   ]
  },
  {
   "cell_type": "code",
   "execution_count": 68,
   "metadata": {},
   "outputs": [],
   "source": [
    "# create layer 3, nested under all clusters from layer 2, which are in turn nested under cluster 9 from layer 1\n",
    "leid_sum_coms_lay3_lay2_lay1c9 = []\n",
    "leid_sum_mod_lay3_lay2_lay1c9 = []\n",
    "\n",
    "G3_G2_Gc9 = leid_sum_coms_lay2_9.subgraphs()\n",
    "\n",
    "for i in range(len(G3_G2_Gc9)):\n",
    "    coms = G3_G2_Gc9[i].community_leiden(objective_function=\"modularity\", weights='sum_weight',\n",
    "                                                n_iterations=-1)\n",
    "    leid_sum_coms_lay3_lay2_lay1c9.append(coms)\n",
    "    \n",
    "    mod = G3_G2_Gc9[i].modularity(coms, weights='sum_weight')\n",
    "    leid_sum_mod_lay3_lay2_lay1c9.append(mod)"
   ]
  },
  {
   "cell_type": "code",
   "execution_count": 69,
   "metadata": {},
   "outputs": [
    {
     "name": "stdout",
     "output_type": "stream",
     "text": [
      "1 clusters were detected nested under layer1-cluster9 --> layer2-cluster0.    \n",
      "These nested clusters have the following sizes: [1].    \n",
      "Modularity for this partition: nan.\n",
      "\n"
     ]
    }
   ],
   "source": [
    "# check nested cluster structure and modularity\n",
    "for i in range(len(G3_G2_Gc9)):\n",
    "    print(f'{len(leid_sum_coms_lay3_lay2_lay1c9[i])} clusters were detected nested under layer1-cluster9 --> layer2-cluster{i}.\\\n",
    "    \\nThese nested clusters have the following sizes: {leid_sum_coms_lay3_lay2_lay1c9[i].sizes()}.\\\n",
    "    \\nModularity for this partition: {leid_sum_mod_lay3_lay2_lay1c9[i]}.\\n')"
   ]
  },
  {
   "cell_type": "code",
   "execution_count": 70,
   "metadata": {},
   "outputs": [
    {
     "name": "stdout",
     "output_type": "stream",
     "text": [
      "length of datafile should be 1 and is 1\n"
     ]
    }
   ],
   "source": [
    "# get cluster allocation of skills for layer 3 of taxonomy nested under cluster 9 from layer 1\n",
    "layer3_lay1c9_df = pd.DataFrame(columns=[\"skill_id\", \"c_layer3\"])\n",
    "for i in range(len(G3_G2_Gc9)):\n",
    "    lay3_c_list = pd.Series(leid_sum_coms_lay3_lay2_lay1c9[i].membership)\n",
    "    lay3_skills = pd.Series(G3_G2_Gc9[i].vs[\"name\"])\n",
    "    \n",
    "    temp_df=pd.concat([lay3_skills, lay3_c_list], axis=1)\n",
    "    temp_df.rename(columns={0:\"skill_id\", 1:\"c_layer3\"}, inplace=True)\n",
    "    \n",
    "    layer3_lay1c9_df = layer3_lay1c9_df.append(temp_df)\n",
    "    \n",
    "print(f'length of datafile should be {leid_sum_coms_lay1.sizes()[9]} and is {len(layer3_lay1c9_df)}')"
   ]
  },
  {
   "cell_type": "code",
   "execution_count": 71,
   "metadata": {},
   "outputs": [],
   "source": [
    "# create layer 3, nested under all clusters from layer 2, which are in turn nested under cluster 10 from layer 1\n",
    "leid_sum_coms_lay3_lay2_lay1c10 = []\n",
    "leid_sum_mod_lay3_lay2_lay1c10 = []\n",
    "\n",
    "G3_G2_Gc10 = leid_sum_coms_lay2_10.subgraphs()\n",
    "\n",
    "for i in range(len(G3_G2_Gc10)):\n",
    "    coms = G3_G2_Gc10[i].community_leiden(objective_function=\"modularity\", weights='sum_weight',\n",
    "                                                n_iterations=1000)\n",
    "    leid_sum_coms_lay3_lay2_lay1c10.append(coms)\n",
    "    \n",
    "    mod = G3_G2_Gc10[i].modularity(coms, weights='sum_weight')\n",
    "    leid_sum_mod_lay3_lay2_lay1c10.append(mod)"
   ]
  },
  {
   "cell_type": "code",
   "execution_count": 72,
   "metadata": {},
   "outputs": [
    {
     "name": "stdout",
     "output_type": "stream",
     "text": [
      "1 clusters were detected nested under layer1-cluster10 --> layer2-cluster0.    \n",
      "These nested clusters have the following sizes: [1].    \n",
      "Modularity for this partition: nan.\n",
      "\n"
     ]
    }
   ],
   "source": [
    "# check nested cluster structure and modularity\n",
    "for i in range(len(G3_G2_Gc10)):\n",
    "    print(f'{len(leid_sum_coms_lay3_lay2_lay1c10[i])} clusters were detected nested under layer1-cluster10 --> layer2-cluster{i}.\\\n",
    "    \\nThese nested clusters have the following sizes: {leid_sum_coms_lay3_lay2_lay1c10[i].sizes()}.\\\n",
    "    \\nModularity for this partition: {leid_sum_mod_lay3_lay2_lay1c10[i]}.\\n')"
   ]
  },
  {
   "cell_type": "code",
   "execution_count": 73,
   "metadata": {},
   "outputs": [
    {
     "name": "stdout",
     "output_type": "stream",
     "text": [
      "length of datafile should be 1 and is 1\n"
     ]
    }
   ],
   "source": [
    "# get cluster allocation of skills for layer 3 of taxonomy nested under cluster 10 from layer 1\n",
    "layer3_lay1c10_df = pd.DataFrame(columns=[\"skill_id\", \"c_layer3\"])\n",
    "for i in range(len(G3_G2_Gc10)):\n",
    "    lay3_c_list = pd.Series(leid_sum_coms_lay3_lay2_lay1c10[i].membership)\n",
    "    lay3_skills = pd.Series(G3_G2_Gc10[i].vs[\"name\"])\n",
    "    \n",
    "    temp_df=pd.concat([lay3_skills, lay3_c_list], axis=1)\n",
    "    temp_df.rename(columns={0:\"skill_id\", 1:\"c_layer3\"}, inplace=True)\n",
    "    \n",
    "    layer3_lay1c10_df = layer3_lay1c10_df.append(temp_df)\n",
    "    \n",
    "print(f'length of datafile should be {leid_sum_coms_lay1.sizes()[10]} and is {len(layer3_lay1c10_df)}')"
   ]
  },
  {
   "cell_type": "code",
   "execution_count": 74,
   "metadata": {},
   "outputs": [
    {
     "name": "stdout",
     "output_type": "stream",
     "text": [
      "(4875, 4)\n"
     ]
    },
    {
     "data": {
      "text/html": [
       "<div>\n",
       "<style scoped>\n",
       "    .dataframe tbody tr th:only-of-type {\n",
       "        vertical-align: middle;\n",
       "    }\n",
       "\n",
       "    .dataframe tbody tr th {\n",
       "        vertical-align: top;\n",
       "    }\n",
       "\n",
       "    .dataframe thead th {\n",
       "        text-align: right;\n",
       "    }\n",
       "</style>\n",
       "<table border=\"1\" class=\"dataframe\">\n",
       "  <thead>\n",
       "    <tr style=\"text-align: right;\">\n",
       "      <th></th>\n",
       "      <th>skill_id</th>\n",
       "      <th>c_layer1</th>\n",
       "      <th>c_layer2</th>\n",
       "      <th>c_layer3</th>\n",
       "    </tr>\n",
       "  </thead>\n",
       "  <tbody>\n",
       "    <tr>\n",
       "      <th>0</th>\n",
       "      <td>7.0</td>\n",
       "      <td>0</td>\n",
       "      <td>0.0</td>\n",
       "      <td>0</td>\n",
       "    </tr>\n",
       "    <tr>\n",
       "      <th>1</th>\n",
       "      <td>14.0</td>\n",
       "      <td>0</td>\n",
       "      <td>1.0</td>\n",
       "      <td>0</td>\n",
       "    </tr>\n",
       "    <tr>\n",
       "      <th>2</th>\n",
       "      <td>21.0</td>\n",
       "      <td>1</td>\n",
       "      <td>0.0</td>\n",
       "      <td>0</td>\n",
       "    </tr>\n",
       "    <tr>\n",
       "      <th>3</th>\n",
       "      <td>22.0</td>\n",
       "      <td>0</td>\n",
       "      <td>1.0</td>\n",
       "      <td>1</td>\n",
       "    </tr>\n",
       "    <tr>\n",
       "      <th>4</th>\n",
       "      <td>34.0</td>\n",
       "      <td>2</td>\n",
       "      <td>0.0</td>\n",
       "      <td>0</td>\n",
       "    </tr>\n",
       "    <tr>\n",
       "      <th>5</th>\n",
       "      <td>65.0</td>\n",
       "      <td>2</td>\n",
       "      <td>0.0</td>\n",
       "      <td>1</td>\n",
       "    </tr>\n",
       "    <tr>\n",
       "      <th>6</th>\n",
       "      <td>78.0</td>\n",
       "      <td>3</td>\n",
       "      <td>0.0</td>\n",
       "      <td>0</td>\n",
       "    </tr>\n",
       "    <tr>\n",
       "      <th>7</th>\n",
       "      <td>96.0</td>\n",
       "      <td>3</td>\n",
       "      <td>1.0</td>\n",
       "      <td>0</td>\n",
       "    </tr>\n",
       "    <tr>\n",
       "      <th>8</th>\n",
       "      <td>113.0</td>\n",
       "      <td>4</td>\n",
       "      <td>0.0</td>\n",
       "      <td>0</td>\n",
       "    </tr>\n",
       "    <tr>\n",
       "      <th>9</th>\n",
       "      <td>117.0</td>\n",
       "      <td>0</td>\n",
       "      <td>2.0</td>\n",
       "      <td>0</td>\n",
       "    </tr>\n",
       "  </tbody>\n",
       "</table>\n",
       "</div>"
      ],
      "text/plain": [
       "   skill_id  c_layer1  c_layer2 c_layer3\n",
       "0       7.0         0       0.0        0\n",
       "1      14.0         0       1.0        0\n",
       "2      21.0         1       0.0        0\n",
       "3      22.0         0       1.0        1\n",
       "4      34.0         2       0.0        0\n",
       "5      65.0         2       0.0        1\n",
       "6      78.0         3       0.0        0\n",
       "7      96.0         3       1.0        0\n",
       "8     113.0         4       0.0        0\n",
       "9     117.0         0       2.0        0"
      ]
     },
     "execution_count": 74,
     "metadata": {},
     "output_type": "execute_result"
    }
   ],
   "source": [
    "# update taxonomy data frame\n",
    "lay3_list = [layer3_lay1c0_df, layer3_lay1c1_df, layer3_lay1c2_df, layer3_lay1c3_df, layer3_lay1c4_df, \n",
    "             layer3_lay1c5_df, layer3_lay1c6_df, layer3_lay1c7_df, layer3_lay1c8_df, layer3_lay1c9_df, \n",
    "             layer3_lay1c10_df]\n",
    "\n",
    "layer3_df = pd.concat(lay3_list)\n",
    "taxonomy = pd.merge(taxonomy_df, layer3_df, how='left', on='skill_id')\n",
    "\n",
    "print(taxonomy.shape)\n",
    "taxonomy.head(10)"
   ]
  },
  {
   "cell_type": "code",
   "execution_count": 75,
   "metadata": {},
   "outputs": [],
   "source": [
    "# save taxonomy file for re-use\n",
    "taxonomy.to_csv(r\"C:\\Users\\manas\\Documents\\Master Thesis\\code\\Manasa2022\\scripts\\taxonomy\\taxonomy.csv\",index=False)"
   ]
  },
  {
   "cell_type": "code",
   "execution_count": 2,
   "metadata": {},
   "outputs": [],
   "source": [
    "taxo = pd.read_csv(r\"C:\\Users\\manas\\Documents\\Master Thesis\\code\\Manasa2022\\scripts\\taxonomy\\taxonomy.csv\")"
   ]
  },
  {
   "cell_type": "code",
   "execution_count": 3,
   "metadata": {},
   "outputs": [
    {
     "data": {
      "text/html": [
       "<div>\n",
       "<style scoped>\n",
       "    .dataframe tbody tr th:only-of-type {\n",
       "        vertical-align: middle;\n",
       "    }\n",
       "\n",
       "    .dataframe tbody tr th {\n",
       "        vertical-align: top;\n",
       "    }\n",
       "\n",
       "    .dataframe thead th {\n",
       "        text-align: right;\n",
       "    }\n",
       "</style>\n",
       "<table border=\"1\" class=\"dataframe\">\n",
       "  <thead>\n",
       "    <tr style=\"text-align: right;\">\n",
       "      <th></th>\n",
       "      <th>skill_id</th>\n",
       "      <th>c_layer1</th>\n",
       "      <th>c_layer2</th>\n",
       "      <th>c_layer3</th>\n",
       "    </tr>\n",
       "  </thead>\n",
       "  <tbody>\n",
       "    <tr>\n",
       "      <th>0</th>\n",
       "      <td>7.0</td>\n",
       "      <td>0</td>\n",
       "      <td>0.0</td>\n",
       "      <td>0.0</td>\n",
       "    </tr>\n",
       "    <tr>\n",
       "      <th>1</th>\n",
       "      <td>14.0</td>\n",
       "      <td>0</td>\n",
       "      <td>1.0</td>\n",
       "      <td>0.0</td>\n",
       "    </tr>\n",
       "    <tr>\n",
       "      <th>2</th>\n",
       "      <td>21.0</td>\n",
       "      <td>1</td>\n",
       "      <td>0.0</td>\n",
       "      <td>0.0</td>\n",
       "    </tr>\n",
       "    <tr>\n",
       "      <th>3</th>\n",
       "      <td>22.0</td>\n",
       "      <td>0</td>\n",
       "      <td>1.0</td>\n",
       "      <td>1.0</td>\n",
       "    </tr>\n",
       "    <tr>\n",
       "      <th>4</th>\n",
       "      <td>34.0</td>\n",
       "      <td>2</td>\n",
       "      <td>0.0</td>\n",
       "      <td>0.0</td>\n",
       "    </tr>\n",
       "  </tbody>\n",
       "</table>\n",
       "</div>"
      ],
      "text/plain": [
       "   skill_id  c_layer1  c_layer2  c_layer3\n",
       "0       7.0         0       0.0       0.0\n",
       "1      14.0         0       1.0       0.0\n",
       "2      21.0         1       0.0       0.0\n",
       "3      22.0         0       1.0       1.0\n",
       "4      34.0         2       0.0       0.0"
      ]
     },
     "execution_count": 3,
     "metadata": {},
     "output_type": "execute_result"
    }
   ],
   "source": [
    "taxo.head(5)\n",
    "taxo['partion_layer_2'] = final_df['partion_layer_2'].fillna('others')"
   ]
  },
  {
   "cell_type": "code",
   "execution_count": 4,
   "metadata": {},
   "outputs": [],
   "source": [
    "import json\n",
    "taxo_result = taxo.to_json(orient=\"index\")"
   ]
  },
  {
   "cell_type": "code",
   "execution_count": 6,
   "metadata": {},
   "outputs": [],
   "source": [
    "with open(r\"C:\\Users\\manas\\Documents\\Master Thesis\\code\\Manasa2022\\scripts\\taxonomy\\sample.json\", \"w\") as outfile:\n",
    "    json.dump(taxo_result, outfile)"
   ]
  },
  {
   "cell_type": "code",
   "execution_count": null,
   "metadata": {},
   "outputs": [],
   "source": []
  },
  {
   "cell_type": "code",
   "execution_count": null,
   "metadata": {},
   "outputs": [],
   "source": []
  },
  {
   "cell_type": "code",
   "execution_count": null,
   "metadata": {},
   "outputs": [],
   "source": []
  },
  {
   "cell_type": "code",
   "execution_count": null,
   "metadata": {},
   "outputs": [],
   "source": []
  },
  {
   "cell_type": "code",
   "execution_count": null,
   "metadata": {},
   "outputs": [],
   "source": []
  },
  {
   "cell_type": "code",
   "execution_count": 25,
   "metadata": {},
   "outputs": [],
   "source": []
  }
 ],
 "metadata": {
  "kernelspec": {
   "display_name": "Python 3 (ipykernel)",
   "language": "python",
   "name": "python3"
  },
  "language_info": {
   "codemirror_mode": {
    "name": "ipython",
    "version": 3
   },
   "file_extension": ".py",
   "mimetype": "text/x-python",
   "name": "python",
   "nbconvert_exporter": "python",
   "pygments_lexer": "ipython3",
   "version": "3.9.7"
  }
 },
 "nbformat": 4,
 "nbformat_minor": 4
}
